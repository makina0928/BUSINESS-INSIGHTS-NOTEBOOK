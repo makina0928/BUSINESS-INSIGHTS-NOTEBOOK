{
 "cells": [
  {
   "cell_type": "markdown",
   "id": "7894114c-e0a7-4acc-9846-cc914923ffe4",
   "metadata": {
    "tags": []
   },
   "source": [
    "<img src=\"download.jpg\" style=\"width:700px;height:400px\"/>\n",
    "\n",
    "## <font color = black> BUSINESS INSIGHTS USING PYTHON (NOTEBOOK 1/3) </font> "
   ]
  },
  {
   "cell_type": "markdown",
   "id": "4d2c4bb0-a9d0-4421-8456-ce7ff7e3f89a",
   "metadata": {},
   "source": [
    "## <font color = grey> Introduction: </font> <br>\n",
    "\n",
    "Business analysis helps organisations stay relevant in the market. Providing business insights helps organisations to come up with better forecasts based on the previous perfomance.<br>\n",
    "\n",
    "For any business to fluorish, customer behaviour analysis should be taken into consideration. Hence it is important for business firms to use cohort analysis in order to analyze customer behaviour across the life cycle of each customer. Cohort analysis can be time-based, segment-based or size-based.<br>\n",
    "\n",
    "Predicting the future of any business is highly dependent on customers/ clients, i.e, weither a customer/client leavess or stays. This calls for churn prediction to predict which customers are likely to leave the service because aquiring new customers/clients often costs more than retaining existing ones.<br>\n",
    "\n",
    "This notebook is one of the business insights project series usinng Python and consists of five sections. It covers EDA, data cleaning, feature engineering, relationship analysis, sales insights and other projects. The remaing notebooks, to be released, will cover Customer segmentation (cohort analysis) and Customer churn prediction (using machine learning), respectively.<br> \n",
    "The three notebooks and dataset used (kaggle datasets)"
   ]
  },
  {
   "cell_type": "markdown",
   "id": "2a6d34b4-45b7-4aaf-bebf-e711105ad113",
   "metadata": {},
   "source": [
    "## \n",
    "## <font color = grey> Notebook scope: </font> \n",
    "\n",
    "#### <font color = blue> Section 1: Data exploration </font>\n",
    " - Shape of the data <br>\n",
    " - Basic Information of Data <br>\n",
    " - Columns descriptions and its types <br>\n",
    " - Descriptive statistical summary of data <br>\n",
    "        \n",
    "#### <font color = blue> Section 2: Data Cleaning and feature engineering </font>\n",
    " - Checking missing values <br>\n",
    " - Feature Engineering <br>\n",
    "    - *Transforming necessary columns types* <br>\n",
    "    - *Adding New columns* <br> \n",
    "    - *Decoding the categorical column value* <br>\n",
    "    - *Deleting some columns* <br> \n",
    "#### <font color = blue> Section 3 : Relationships among variables </font> <br>\n",
    "   - Correlation matrix <br>\n",
    "   - Correlation ranks <br>\n",
    "   - Linear relationship (regression) \n",
    "\n",
    "#### <font color = blue> Section 4: Insights </font>\n",
    "#### <font color = blue> Section 5: Other projects </font>\n"
   ]
  },
  {
   "cell_type": "code",
   "execution_count": 1,
   "id": "d2f6aac6-a7e1-4678-afca-c2d659b2e7be",
   "metadata": {},
   "outputs": [],
   "source": [
    "# import Packages\n",
    "import numpy as np\n",
    "import pandas as pd\n",
    "import seaborn as sns\n",
    "import matplotlib.pyplot as plt\n",
    "%matplotlib inline\n",
    "import warnings\n",
    "warnings.filterwarnings(\"ignore\")\n",
    "from scipy.stats import ttest_ind,ttest_rel\n",
    "from scipy import stats"
   ]
  },
  {
   "cell_type": "code",
   "execution_count": 2,
   "id": "bc71d62f-1a96-4733-a12f-8585e61e922d",
   "metadata": {},
   "outputs": [],
   "source": [
    "#import mitosheet\n",
    "#mitosheet.sheet(analysis_to_replay=\"id-yasgmqzfwd\")"
   ]
  },
  {
   "cell_type": "code",
   "execution_count": 3,
   "id": "eddb3c35-f509-4aaf-9028-3579409651b6",
   "metadata": {},
   "outputs": [],
   "source": [
    "Online_Retail = pd.read_excel('D:\\MAKINA 3\\AQSKILLS\\DATA SCIENCE\\customer segementation dataset\\supermarket_sales _data.xlsx')"
   ]
  },
  {
   "cell_type": "code",
   "execution_count": 4,
   "id": "4d812cfe-402b-45f7-90fb-65691138f4da",
   "metadata": {},
   "outputs": [
    {
     "data": {
      "text/html": [
       "<div>\n",
       "<style scoped>\n",
       "    .dataframe tbody tr th:only-of-type {\n",
       "        vertical-align: middle;\n",
       "    }\n",
       "\n",
       "    .dataframe tbody tr th {\n",
       "        vertical-align: top;\n",
       "    }\n",
       "\n",
       "    .dataframe thead th {\n",
       "        text-align: right;\n",
       "    }\n",
       "</style>\n",
       "<table border=\"1\" class=\"dataframe\">\n",
       "  <thead>\n",
       "    <tr style=\"text-align: right;\">\n",
       "      <th></th>\n",
       "      <th>Invoice ID</th>\n",
       "      <th>Branch</th>\n",
       "      <th>City</th>\n",
       "      <th>Customer type</th>\n",
       "      <th>Gender</th>\n",
       "      <th>Product line</th>\n",
       "      <th>Unit price</th>\n",
       "      <th>Quantity</th>\n",
       "      <th>Total</th>\n",
       "      <th>Date</th>\n",
       "      <th>Time</th>\n",
       "      <th>Payment</th>\n",
       "      <th>Cost of goods sold</th>\n",
       "      <th>gross margin percentage</th>\n",
       "      <th>gross income</th>\n",
       "      <th>Rating</th>\n",
       "    </tr>\n",
       "  </thead>\n",
       "  <tbody>\n",
       "    <tr>\n",
       "      <th>0</th>\n",
       "      <td>750-67-8428</td>\n",
       "      <td>A</td>\n",
       "      <td>Yangon</td>\n",
       "      <td>Member</td>\n",
       "      <td>Female</td>\n",
       "      <td>Health and beauty</td>\n",
       "      <td>74.69</td>\n",
       "      <td>7</td>\n",
       "      <td>548.9715</td>\n",
       "      <td>2019-01-05</td>\n",
       "      <td>13:08:00</td>\n",
       "      <td>Ewallet</td>\n",
       "      <td>522.83</td>\n",
       "      <td>4.761905</td>\n",
       "      <td>26.1415</td>\n",
       "      <td>9.1</td>\n",
       "    </tr>\n",
       "    <tr>\n",
       "      <th>1</th>\n",
       "      <td>226-31-3081</td>\n",
       "      <td>C</td>\n",
       "      <td>Naypyitaw</td>\n",
       "      <td>Normal</td>\n",
       "      <td>Female</td>\n",
       "      <td>Electronic accessories</td>\n",
       "      <td>15.28</td>\n",
       "      <td>5</td>\n",
       "      <td>80.2200</td>\n",
       "      <td>2019-03-08</td>\n",
       "      <td>10:29:00</td>\n",
       "      <td>Cash</td>\n",
       "      <td>76.40</td>\n",
       "      <td>4.761905</td>\n",
       "      <td>3.8200</td>\n",
       "      <td>9.6</td>\n",
       "    </tr>\n",
       "    <tr>\n",
       "      <th>2</th>\n",
       "      <td>631-41-3108</td>\n",
       "      <td>A</td>\n",
       "      <td>Yangon</td>\n",
       "      <td>Normal</td>\n",
       "      <td>Male</td>\n",
       "      <td>Home and lifestyle</td>\n",
       "      <td>46.33</td>\n",
       "      <td>7</td>\n",
       "      <td>340.5255</td>\n",
       "      <td>2019-03-03</td>\n",
       "      <td>13:23:00</td>\n",
       "      <td>Credit card</td>\n",
       "      <td>324.31</td>\n",
       "      <td>4.761905</td>\n",
       "      <td>16.2155</td>\n",
       "      <td>7.4</td>\n",
       "    </tr>\n",
       "  </tbody>\n",
       "</table>\n",
       "</div>"
      ],
      "text/plain": [
       "    Invoice ID Branch       City Customer type  Gender  \\\n",
       "0  750-67-8428      A     Yangon        Member  Female   \n",
       "1  226-31-3081      C  Naypyitaw        Normal  Female   \n",
       "2  631-41-3108      A     Yangon        Normal    Male   \n",
       "\n",
       "             Product line  Unit price  Quantity     Total       Date  \\\n",
       "0       Health and beauty       74.69         7  548.9715 2019-01-05   \n",
       "1  Electronic accessories       15.28         5   80.2200 2019-03-08   \n",
       "2      Home and lifestyle       46.33         7  340.5255 2019-03-03   \n",
       "\n",
       "       Time      Payment  Cost of goods sold  gross margin percentage  \\\n",
       "0  13:08:00      Ewallet              522.83                 4.761905   \n",
       "1  10:29:00         Cash               76.40                 4.761905   \n",
       "2  13:23:00  Credit card              324.31                 4.761905   \n",
       "\n",
       "   gross income  Rating  \n",
       "0       26.1415     9.1  \n",
       "1        3.8200     9.6  \n",
       "2       16.2155     7.4  "
      ]
     },
     "execution_count": 4,
     "metadata": {},
     "output_type": "execute_result"
    }
   ],
   "source": [
    "df = Online_Retail\n",
    "df.head(3)"
   ]
  },
  {
   "cell_type": "code",
   "execution_count": null,
   "id": "0ef36eff-1ed0-4a4b-8f60-f8b2538b26ad",
   "metadata": {},
   "outputs": [],
   "source": []
  },
  {
   "cell_type": "code",
   "execution_count": null,
   "id": "7d793283-5432-495a-8bd3-a9f63d0ced52",
   "metadata": {},
   "outputs": [],
   "source": []
  },
  {
   "cell_type": "markdown",
   "id": "f385a08c-7084-44d0-838c-2c25c55b4a16",
   "metadata": {
    "tags": []
   },
   "source": []
  },
  {
   "cell_type": "markdown",
   "id": "309e4eba-f7c0-4d5a-b022-667430748959",
   "metadata": {},
   "source": [
    "## __Section 1 : Basic Understanding of Data__"
   ]
  },
  {
   "cell_type": "markdown",
   "id": "21170df6-344e-493c-a4ed-2311486205bf",
   "metadata": {},
   "source": [
    "#### - Find Number of rows and columns"
   ]
  },
  {
   "cell_type": "code",
   "execution_count": 5,
   "id": "a6dbe340-242e-4274-ab2a-a4ca39742fbb",
   "metadata": {},
   "outputs": [
    {
     "data": {
      "text/plain": [
       "(1000, 16)"
      ]
     },
     "execution_count": 5,
     "metadata": {},
     "output_type": "execute_result"
    }
   ],
   "source": [
    "df.shape"
   ]
  },
  {
   "cell_type": "markdown",
   "id": "b0074819-eff0-4c36-8bd8-713a27cbba2a",
   "metadata": {},
   "source": [
    "- _Number of rows - 1000_\n",
    "\n",
    "- _Number of columns - 16_"
   ]
  },
  {
   "cell_type": "code",
   "execution_count": null,
   "id": "64bd81b3-646d-4ac6-841c-a27234faf9f1",
   "metadata": {},
   "outputs": [],
   "source": []
  },
  {
   "cell_type": "markdown",
   "id": "5a0a2860-2c72-4d21-b442-19e6e3d93e26",
   "metadata": {
    "tags": []
   },
   "source": [
    "#### - Column names"
   ]
  },
  {
   "cell_type": "code",
   "execution_count": 6,
   "id": "d98158a0-fd38-4a67-91a6-1892cf546ef9",
   "metadata": {},
   "outputs": [
    {
     "data": {
      "text/plain": [
       "Index(['Invoice ID', 'Branch', 'City', 'Customer type', 'Gender',\n",
       "       'Product line', 'Unit price', 'Quantity', 'Total', 'Date', 'Time',\n",
       "       'Payment', 'Cost of goods sold', 'gross margin percentage',\n",
       "       'gross income', 'Rating'],\n",
       "      dtype='object')"
      ]
     },
     "execution_count": 6,
     "metadata": {},
     "output_type": "execute_result"
    }
   ],
   "source": [
    "df.columns"
   ]
  },
  {
   "cell_type": "code",
   "execution_count": null,
   "id": "10a1a3ea-5c48-42d7-96aa-6ea0ccb133f4",
   "metadata": {},
   "outputs": [],
   "source": []
  },
  {
   "cell_type": "markdown",
   "id": "6e987795-22f4-40c9-b2e5-3e6eacb30a1f",
   "metadata": {},
   "source": [
    "#### - Basic information about the data"
   ]
  },
  {
   "cell_type": "code",
   "execution_count": 7,
   "id": "605e4fa2-da0a-49d0-9b83-3bbd7ba22eab",
   "metadata": {},
   "outputs": [
    {
     "name": "stdout",
     "output_type": "stream",
     "text": [
      "<class 'pandas.core.frame.DataFrame'>\n",
      "RangeIndex: 1000 entries, 0 to 999\n",
      "Data columns (total 16 columns):\n",
      " #   Column                   Non-Null Count  Dtype         \n",
      "---  ------                   --------------  -----         \n",
      " 0   Invoice ID               1000 non-null   object        \n",
      " 1   Branch                   1000 non-null   object        \n",
      " 2   City                     1000 non-null   object        \n",
      " 3   Customer type            1000 non-null   object        \n",
      " 4   Gender                   1000 non-null   object        \n",
      " 5   Product line             1000 non-null   object        \n",
      " 6   Unit price               1000 non-null   float64       \n",
      " 7   Quantity                 1000 non-null   int64         \n",
      " 8   Total                    1000 non-null   float64       \n",
      " 9   Date                     1000 non-null   datetime64[ns]\n",
      " 10  Time                     1000 non-null   object        \n",
      " 11  Payment                  1000 non-null   object        \n",
      " 12  Cost of goods sold       1000 non-null   float64       \n",
      " 13  gross margin percentage  1000 non-null   float64       \n",
      " 14  gross income             1000 non-null   float64       \n",
      " 15  Rating                   1000 non-null   float64       \n",
      "dtypes: datetime64[ns](1), float64(6), int64(1), object(8)\n",
      "memory usage: 125.1+ KB\n"
     ]
    }
   ],
   "source": [
    "df.info()"
   ]
  },
  {
   "cell_type": "code",
   "execution_count": null,
   "id": "eb77e612-bfd5-4898-ac92-8ff57a044bea",
   "metadata": {},
   "outputs": [],
   "source": []
  },
  {
   "cell_type": "markdown",
   "id": "9cae09b2-bd87-4979-af4b-4da73894f6e5",
   "metadata": {},
   "source": [
    "#### -  Descriptive Statistical summary of data "
   ]
  },
  {
   "cell_type": "markdown",
   "id": "4c033e66-2bac-44ea-af99-d2cd58308198",
   "metadata": {},
   "source": [
    "### Mean\n",
    "Suppose we have X and Y variables, to find the means for X ($\\bar{X}$) and Y ($\\bar{Y}$) from $i= 1, 2,\\dots,n$ samples then we can\n",
    "let $X_{i}$ (for $i=1,2,\\dots,n$) be the values of X-variable. Then the mean is given by,\n",
    "\n",
    "\\begin{align}\n",
    "\\bar{X}= \\frac{1}{N}\\left(\\sum X_{i}\\right)\n",
    "\\end{align}\n",
    "\n",
    "Similarly, for Y-variable we have,\n",
    "\n",
    "\\begin{align}\n",
    "\\bar{Y}= \\frac{1}{N}\\left(\\sum Y_{i}\\right)\n",
    "\\end{align} \n",
    "\n",
    "### Standard deviation\n",
    "The variance or dispersion of the set of variances is given by,\n",
    "\n",
    "\\begin{align}\n",
    "\\sigma^{2}=\\frac{1}{n}\\sum_{i=1}^{n}\\left(X_{i}-\\mu\\right)^{2}\n",
    "\\end{align}\n",
    "\n",
    "A standard deviation (or $\\sigma$) is a measure of how dispersed the data is in relation to the mean. Low standard deviation means data are clustered around the mean, and high standard deviation indicates data are more spread out. A standard deviation close to zero indicates that data points are close to the mean, whereas a high or low standard deviation indicates data points are respectively above or below the mean (link: https://www.nlm.nih.gov).\n",
    "\n",
    "The standard deviation ($\\sigma$) is the square root of variance hence the equation above becomes\n",
    "\n",
    "\\begin{align}\n",
    "\\sigma=\\sqrt{\\sigma^{2}}=\\sqrt{\\frac{1}{n}\\sum\\limits_{i=1}^{n}\\left(X_{i}-\\mu\\right)^{2}}\n",
    "\\end{align}\n",
    "\n",
    "Practically, the true mean ($\\mu$) is not known thus, it is estimated by the sample mean ($\\bar{X}$) and the sample variance is denoted by $S^{2}$. Therefore the equation above becomes\n",
    "\n",
    "\\begin{align}\n",
    "S^{2}=\\frac{1}{n-1}\\sum\\limits_{i=1}^{n}\\left(X_{i}-\\bar{X}\\right)^{2}\n",
    "\\end{align}\n",
    "\n",
    "Similarly, we can rewrite the above equation as:\n",
    "\n",
    "\\begin{align}\n",
    "S=\\sqrt{S^{2}}=\\sqrt{\\frac{1}{n-1}\\sum\\limits_{i=1}^{n}\\left(X_{i}-\\bar{X}\\right)^{2}}\n",
    "\\end{align}\n"
   ]
  },
  {
   "cell_type": "code",
   "execution_count": 8,
   "id": "b2a012ec-7f1a-4335-8cde-24719cc1a7a3",
   "metadata": {},
   "outputs": [
    {
     "data": {
      "text/html": [
       "<div>\n",
       "<style scoped>\n",
       "    .dataframe tbody tr th:only-of-type {\n",
       "        vertical-align: middle;\n",
       "    }\n",
       "\n",
       "    .dataframe tbody tr th {\n",
       "        vertical-align: top;\n",
       "    }\n",
       "\n",
       "    .dataframe thead th {\n",
       "        text-align: right;\n",
       "    }\n",
       "</style>\n",
       "<table border=\"1\" class=\"dataframe\">\n",
       "  <thead>\n",
       "    <tr style=\"text-align: right;\">\n",
       "      <th></th>\n",
       "      <th>count</th>\n",
       "      <th>mean</th>\n",
       "      <th>std</th>\n",
       "      <th>min</th>\n",
       "      <th>25%</th>\n",
       "      <th>50%</th>\n",
       "      <th>75%</th>\n",
       "      <th>max</th>\n",
       "    </tr>\n",
       "  </thead>\n",
       "  <tbody>\n",
       "    <tr>\n",
       "      <th>Unit price</th>\n",
       "      <td>1000.0</td>\n",
       "      <td>55.672130</td>\n",
       "      <td>26.494628</td>\n",
       "      <td>10.080000</td>\n",
       "      <td>32.875000</td>\n",
       "      <td>55.230000</td>\n",
       "      <td>77.935000</td>\n",
       "      <td>99.960000</td>\n",
       "    </tr>\n",
       "    <tr>\n",
       "      <th>Quantity</th>\n",
       "      <td>1000.0</td>\n",
       "      <td>5.510000</td>\n",
       "      <td>2.923431</td>\n",
       "      <td>1.000000</td>\n",
       "      <td>3.000000</td>\n",
       "      <td>5.000000</td>\n",
       "      <td>8.000000</td>\n",
       "      <td>10.000000</td>\n",
       "    </tr>\n",
       "    <tr>\n",
       "      <th>Total</th>\n",
       "      <td>1000.0</td>\n",
       "      <td>322.966749</td>\n",
       "      <td>245.885335</td>\n",
       "      <td>10.678500</td>\n",
       "      <td>124.422375</td>\n",
       "      <td>253.848000</td>\n",
       "      <td>471.350250</td>\n",
       "      <td>1042.650000</td>\n",
       "    </tr>\n",
       "    <tr>\n",
       "      <th>Cost of goods sold</th>\n",
       "      <td>1000.0</td>\n",
       "      <td>307.587380</td>\n",
       "      <td>234.176510</td>\n",
       "      <td>10.170000</td>\n",
       "      <td>118.497500</td>\n",
       "      <td>241.760000</td>\n",
       "      <td>448.905000</td>\n",
       "      <td>993.000000</td>\n",
       "    </tr>\n",
       "    <tr>\n",
       "      <th>gross margin percentage</th>\n",
       "      <td>1000.0</td>\n",
       "      <td>4.761905</td>\n",
       "      <td>0.000000</td>\n",
       "      <td>4.761905</td>\n",
       "      <td>4.761905</td>\n",
       "      <td>4.761905</td>\n",
       "      <td>4.761905</td>\n",
       "      <td>4.761905</td>\n",
       "    </tr>\n",
       "    <tr>\n",
       "      <th>gross income</th>\n",
       "      <td>1000.0</td>\n",
       "      <td>15.379369</td>\n",
       "      <td>11.708825</td>\n",
       "      <td>0.508500</td>\n",
       "      <td>5.924875</td>\n",
       "      <td>12.088000</td>\n",
       "      <td>22.445250</td>\n",
       "      <td>49.650000</td>\n",
       "    </tr>\n",
       "    <tr>\n",
       "      <th>Rating</th>\n",
       "      <td>1000.0</td>\n",
       "      <td>6.972700</td>\n",
       "      <td>1.718580</td>\n",
       "      <td>4.000000</td>\n",
       "      <td>5.500000</td>\n",
       "      <td>7.000000</td>\n",
       "      <td>8.500000</td>\n",
       "      <td>10.000000</td>\n",
       "    </tr>\n",
       "  </tbody>\n",
       "</table>\n",
       "</div>"
      ],
      "text/plain": [
       "                          count        mean         std        min  \\\n",
       "Unit price               1000.0   55.672130   26.494628  10.080000   \n",
       "Quantity                 1000.0    5.510000    2.923431   1.000000   \n",
       "Total                    1000.0  322.966749  245.885335  10.678500   \n",
       "Cost of goods sold       1000.0  307.587380  234.176510  10.170000   \n",
       "gross margin percentage  1000.0    4.761905    0.000000   4.761905   \n",
       "gross income             1000.0   15.379369   11.708825   0.508500   \n",
       "Rating                   1000.0    6.972700    1.718580   4.000000   \n",
       "\n",
       "                                25%         50%         75%          max  \n",
       "Unit price                32.875000   55.230000   77.935000    99.960000  \n",
       "Quantity                   3.000000    5.000000    8.000000    10.000000  \n",
       "Total                    124.422375  253.848000  471.350250  1042.650000  \n",
       "Cost of goods sold       118.497500  241.760000  448.905000   993.000000  \n",
       "gross margin percentage    4.761905    4.761905    4.761905     4.761905  \n",
       "gross income               5.924875   12.088000   22.445250    49.650000  \n",
       "Rating                     5.500000    7.000000    8.500000    10.000000  "
      ]
     },
     "execution_count": 8,
     "metadata": {},
     "output_type": "execute_result"
    }
   ],
   "source": [
    "descriptive=df.describe().T\n",
    "descriptive"
   ]
  },
  {
   "cell_type": "code",
   "execution_count": 9,
   "id": "5f01a0dd-36dc-4898-9bc9-c6cb95fac528",
   "metadata": {},
   "outputs": [
    {
     "data": {
      "text/plain": [
       "Unit price                 29.177502\n",
       "Quantity                    2.586569\n",
       "Total                      77.081414\n",
       "Cost of goods sold         73.410870\n",
       "gross margin percentage     4.761905\n",
       "gross income                3.670544\n",
       "Rating                      5.254120\n",
       "dtype: float64"
      ]
     },
     "execution_count": 9,
     "metadata": {},
     "output_type": "execute_result"
    }
   ],
   "source": [
    "Difference=descriptive[\"mean\"]-descriptive[\"std\"] \n",
    "Difference"
   ]
  },
  {
   "cell_type": "markdown",
   "id": "85e8e7ec-8eeb-4dd1-af25-76b13544b16a",
   "metadata": {},
   "source": [
    "From the above output it can be noticed that there is a wide dispersion between mean and standard deviation on Unit price, Total and Cost of goods sold."
   ]
  },
  {
   "cell_type": "code",
   "execution_count": 10,
   "id": "43df9228-3e3f-4c88-8d57-4802b815cb36",
   "metadata": {},
   "outputs": [
    {
     "data": {
      "text/html": [
       "<div>\n",
       "<style scoped>\n",
       "    .dataframe tbody tr th:only-of-type {\n",
       "        vertical-align: middle;\n",
       "    }\n",
       "\n",
       "    .dataframe tbody tr th {\n",
       "        vertical-align: top;\n",
       "    }\n",
       "\n",
       "    .dataframe thead th {\n",
       "        text-align: right;\n",
       "    }\n",
       "</style>\n",
       "<table border=\"1\" class=\"dataframe\">\n",
       "  <thead>\n",
       "    <tr style=\"text-align: right;\">\n",
       "      <th></th>\n",
       "      <th>Invoice ID</th>\n",
       "      <th>Branch</th>\n",
       "      <th>City</th>\n",
       "      <th>Customer type</th>\n",
       "      <th>Gender</th>\n",
       "      <th>Product line</th>\n",
       "      <th>Time</th>\n",
       "      <th>Payment</th>\n",
       "    </tr>\n",
       "  </thead>\n",
       "  <tbody>\n",
       "    <tr>\n",
       "      <th>count</th>\n",
       "      <td>1000</td>\n",
       "      <td>1000</td>\n",
       "      <td>1000</td>\n",
       "      <td>1000</td>\n",
       "      <td>1000</td>\n",
       "      <td>1000</td>\n",
       "      <td>1000</td>\n",
       "      <td>1000</td>\n",
       "    </tr>\n",
       "    <tr>\n",
       "      <th>unique</th>\n",
       "      <td>1000</td>\n",
       "      <td>3</td>\n",
       "      <td>3</td>\n",
       "      <td>2</td>\n",
       "      <td>2</td>\n",
       "      <td>6</td>\n",
       "      <td>506</td>\n",
       "      <td>3</td>\n",
       "    </tr>\n",
       "    <tr>\n",
       "      <th>top</th>\n",
       "      <td>750-67-8428</td>\n",
       "      <td>A</td>\n",
       "      <td>Yangon</td>\n",
       "      <td>Member</td>\n",
       "      <td>Female</td>\n",
       "      <td>Fashion accessories</td>\n",
       "      <td>19:48:00</td>\n",
       "      <td>Ewallet</td>\n",
       "    </tr>\n",
       "    <tr>\n",
       "      <th>freq</th>\n",
       "      <td>1</td>\n",
       "      <td>340</td>\n",
       "      <td>340</td>\n",
       "      <td>501</td>\n",
       "      <td>501</td>\n",
       "      <td>178</td>\n",
       "      <td>7</td>\n",
       "      <td>345</td>\n",
       "    </tr>\n",
       "  </tbody>\n",
       "</table>\n",
       "</div>"
      ],
      "text/plain": [
       "         Invoice ID Branch    City Customer type  Gender         Product line  \\\n",
       "count          1000   1000    1000          1000    1000                 1000   \n",
       "unique         1000      3       3             2       2                    6   \n",
       "top     750-67-8428      A  Yangon        Member  Female  Fashion accessories   \n",
       "freq              1    340     340           501     501                  178   \n",
       "\n",
       "            Time  Payment  \n",
       "count       1000     1000  \n",
       "unique       506        3  \n",
       "top     19:48:00  Ewallet  \n",
       "freq           7      345  "
      ]
     },
     "execution_count": 10,
     "metadata": {},
     "output_type": "execute_result"
    }
   ],
   "source": [
    "df.describe(include=\"object\")"
   ]
  },
  {
   "cell_type": "code",
   "execution_count": null,
   "id": "f6526199-0152-4db7-82e7-5a67b6a29231",
   "metadata": {},
   "outputs": [],
   "source": []
  },
  {
   "cell_type": "code",
   "execution_count": null,
   "id": "93168939-87b8-47e0-83b0-5df8992e7dfc",
   "metadata": {},
   "outputs": [],
   "source": []
  },
  {
   "cell_type": "markdown",
   "id": "02743574-745f-4ba2-a70f-59b77751848f",
   "metadata": {},
   "source": [
    "## __Section 2:  Cleaning and  Transforming of Data__ "
   ]
  },
  {
   "cell_type": "markdown",
   "id": "d24f4d36-1bed-4f3b-9a0e-9863e551324e",
   "metadata": {},
   "source": [
    "## -  Checking missing values in the data"
   ]
  },
  {
   "cell_type": "code",
   "execution_count": 11,
   "id": "59939d4f-3c15-4efc-9abf-f4e8e9fcd01d",
   "metadata": {},
   "outputs": [
    {
     "data": {
      "text/plain": [
       "Invoice ID                 0\n",
       "Branch                     0\n",
       "City                       0\n",
       "Customer type              0\n",
       "Gender                     0\n",
       "Product line               0\n",
       "Unit price                 0\n",
       "Quantity                   0\n",
       "Total                      0\n",
       "Date                       0\n",
       "Time                       0\n",
       "Payment                    0\n",
       "Cost of goods sold         0\n",
       "gross margin percentage    0\n",
       "gross income               0\n",
       "Rating                     0\n",
       "dtype: int64"
      ]
     },
     "execution_count": 11,
     "metadata": {},
     "output_type": "execute_result"
    }
   ],
   "source": [
    "df.isnull().sum()"
   ]
  },
  {
   "cell_type": "markdown",
   "id": "ab23de1a-2e74-450e-8e8c-a1579e32403c",
   "metadata": {},
   "source": [
    "From the above output, the data has no null values"
   ]
  },
  {
   "cell_type": "code",
   "execution_count": null,
   "id": "f7665b96-5ad8-4952-bbae-84c353ee9f9f",
   "metadata": {},
   "outputs": [],
   "source": []
  },
  {
   "cell_type": "markdown",
   "id": "63db7086-c319-445d-a427-9cc129b60146",
   "metadata": {},
   "source": [
    "## - Feature engineering"
   ]
  },
  {
   "cell_type": "markdown",
   "id": "a7e73441-5f81-4a19-96bf-1d923ea6dc19",
   "metadata": {},
   "source": [
    "#### Do Necessary columns conversions"
   ]
  },
  {
   "cell_type": "markdown",
   "id": "35e1d382-bdc8-495d-b0a8-a48342960299",
   "metadata": {},
   "source": [
    "####  - Converting date column to datetime datatype "
   ]
  },
  {
   "cell_type": "code",
   "execution_count": 12,
   "id": "05f26bcb-1f10-4aa1-97da-5fff97afb242",
   "metadata": {},
   "outputs": [],
   "source": [
    "df[\"Date\"]=pd.to_datetime(df[\"Date\"])"
   ]
  },
  {
   "cell_type": "markdown",
   "id": "6c476f04-bf5d-40f8-b822-9d5fcf3bafc6",
   "metadata": {},
   "source": [
    "#### Adding the attribute Month to df"
   ]
  },
  {
   "cell_type": "code",
   "execution_count": 13,
   "id": "b16901f1-a805-45c1-ac13-44c8a32b1cd5",
   "metadata": {},
   "outputs": [
    {
     "data": {
      "text/html": [
       "<div>\n",
       "<style scoped>\n",
       "    .dataframe tbody tr th:only-of-type {\n",
       "        vertical-align: middle;\n",
       "    }\n",
       "\n",
       "    .dataframe tbody tr th {\n",
       "        vertical-align: top;\n",
       "    }\n",
       "\n",
       "    .dataframe thead th {\n",
       "        text-align: right;\n",
       "    }\n",
       "</style>\n",
       "<table border=\"1\" class=\"dataframe\">\n",
       "  <thead>\n",
       "    <tr style=\"text-align: right;\">\n",
       "      <th></th>\n",
       "      <th>Invoice ID</th>\n",
       "      <th>Branch</th>\n",
       "      <th>City</th>\n",
       "      <th>Customer type</th>\n",
       "      <th>Gender</th>\n",
       "      <th>Product line</th>\n",
       "      <th>Unit price</th>\n",
       "      <th>Quantity</th>\n",
       "      <th>Total</th>\n",
       "      <th>Date</th>\n",
       "      <th>Time</th>\n",
       "      <th>Payment</th>\n",
       "      <th>Cost of goods sold</th>\n",
       "      <th>gross margin percentage</th>\n",
       "      <th>gross income</th>\n",
       "      <th>Rating</th>\n",
       "      <th>month</th>\n",
       "    </tr>\n",
       "  </thead>\n",
       "  <tbody>\n",
       "    <tr>\n",
       "      <th>0</th>\n",
       "      <td>750-67-8428</td>\n",
       "      <td>A</td>\n",
       "      <td>Yangon</td>\n",
       "      <td>Member</td>\n",
       "      <td>Female</td>\n",
       "      <td>Health and beauty</td>\n",
       "      <td>74.69</td>\n",
       "      <td>7</td>\n",
       "      <td>548.9715</td>\n",
       "      <td>2019-01-05</td>\n",
       "      <td>13:08:00</td>\n",
       "      <td>Ewallet</td>\n",
       "      <td>522.83</td>\n",
       "      <td>4.761905</td>\n",
       "      <td>26.1415</td>\n",
       "      <td>9.1</td>\n",
       "      <td>1</td>\n",
       "    </tr>\n",
       "    <tr>\n",
       "      <th>1</th>\n",
       "      <td>226-31-3081</td>\n",
       "      <td>C</td>\n",
       "      <td>Naypyitaw</td>\n",
       "      <td>Normal</td>\n",
       "      <td>Female</td>\n",
       "      <td>Electronic accessories</td>\n",
       "      <td>15.28</td>\n",
       "      <td>5</td>\n",
       "      <td>80.2200</td>\n",
       "      <td>2019-03-08</td>\n",
       "      <td>10:29:00</td>\n",
       "      <td>Cash</td>\n",
       "      <td>76.40</td>\n",
       "      <td>4.761905</td>\n",
       "      <td>3.8200</td>\n",
       "      <td>9.6</td>\n",
       "      <td>3</td>\n",
       "    </tr>\n",
       "    <tr>\n",
       "      <th>2</th>\n",
       "      <td>631-41-3108</td>\n",
       "      <td>A</td>\n",
       "      <td>Yangon</td>\n",
       "      <td>Normal</td>\n",
       "      <td>Male</td>\n",
       "      <td>Home and lifestyle</td>\n",
       "      <td>46.33</td>\n",
       "      <td>7</td>\n",
       "      <td>340.5255</td>\n",
       "      <td>2019-03-03</td>\n",
       "      <td>13:23:00</td>\n",
       "      <td>Credit card</td>\n",
       "      <td>324.31</td>\n",
       "      <td>4.761905</td>\n",
       "      <td>16.2155</td>\n",
       "      <td>7.4</td>\n",
       "      <td>3</td>\n",
       "    </tr>\n",
       "  </tbody>\n",
       "</table>\n",
       "</div>"
      ],
      "text/plain": [
       "    Invoice ID Branch       City Customer type  Gender  \\\n",
       "0  750-67-8428      A     Yangon        Member  Female   \n",
       "1  226-31-3081      C  Naypyitaw        Normal  Female   \n",
       "2  631-41-3108      A     Yangon        Normal    Male   \n",
       "\n",
       "             Product line  Unit price  Quantity     Total       Date  \\\n",
       "0       Health and beauty       74.69         7  548.9715 2019-01-05   \n",
       "1  Electronic accessories       15.28         5   80.2200 2019-03-08   \n",
       "2      Home and lifestyle       46.33         7  340.5255 2019-03-03   \n",
       "\n",
       "       Time      Payment  Cost of goods sold  gross margin percentage  \\\n",
       "0  13:08:00      Ewallet              522.83                 4.761905   \n",
       "1  10:29:00         Cash               76.40                 4.761905   \n",
       "2  13:23:00  Credit card              324.31                 4.761905   \n",
       "\n",
       "   gross income  Rating  month  \n",
       "0       26.1415     9.1      1  \n",
       "1        3.8200     9.6      3  \n",
       "2       16.2155     7.4      3  "
      ]
     },
     "execution_count": 13,
     "metadata": {},
     "output_type": "execute_result"
    }
   ],
   "source": [
    "from datetime import datetime as dt\n",
    "df[\"month\"]=df.Date.dt.month\n",
    "df.head(3)"
   ]
  },
  {
   "cell_type": "code",
   "execution_count": null,
   "id": "77472f9f-224a-41e2-b778-c59019276b9a",
   "metadata": {},
   "outputs": [],
   "source": []
  },
  {
   "cell_type": "markdown",
   "id": "21c64aa9-b2f2-4ac4-87ec-902b6a81344c",
   "metadata": {},
   "source": [
    "#### Adding the attribute weekday to df"
   ]
  },
  {
   "cell_type": "code",
   "execution_count": 14,
   "id": "aa4e1dcc-8adb-49dd-b460-40e0d12fba42",
   "metadata": {},
   "outputs": [
    {
     "data": {
      "text/html": [
       "<div>\n",
       "<style scoped>\n",
       "    .dataframe tbody tr th:only-of-type {\n",
       "        vertical-align: middle;\n",
       "    }\n",
       "\n",
       "    .dataframe tbody tr th {\n",
       "        vertical-align: top;\n",
       "    }\n",
       "\n",
       "    .dataframe thead th {\n",
       "        text-align: right;\n",
       "    }\n",
       "</style>\n",
       "<table border=\"1\" class=\"dataframe\">\n",
       "  <thead>\n",
       "    <tr style=\"text-align: right;\">\n",
       "      <th></th>\n",
       "      <th>Invoice ID</th>\n",
       "      <th>Branch</th>\n",
       "      <th>City</th>\n",
       "      <th>Customer type</th>\n",
       "      <th>Gender</th>\n",
       "      <th>Product line</th>\n",
       "      <th>Unit price</th>\n",
       "      <th>Quantity</th>\n",
       "      <th>Total</th>\n",
       "      <th>Date</th>\n",
       "      <th>Time</th>\n",
       "      <th>Payment</th>\n",
       "      <th>Cost of goods sold</th>\n",
       "      <th>gross margin percentage</th>\n",
       "      <th>gross income</th>\n",
       "      <th>Rating</th>\n",
       "      <th>month</th>\n",
       "      <th>weekday</th>\n",
       "    </tr>\n",
       "  </thead>\n",
       "  <tbody>\n",
       "    <tr>\n",
       "      <th>0</th>\n",
       "      <td>750-67-8428</td>\n",
       "      <td>A</td>\n",
       "      <td>Yangon</td>\n",
       "      <td>Member</td>\n",
       "      <td>Female</td>\n",
       "      <td>Health and beauty</td>\n",
       "      <td>74.69</td>\n",
       "      <td>7</td>\n",
       "      <td>548.9715</td>\n",
       "      <td>2019-01-05</td>\n",
       "      <td>13:08:00</td>\n",
       "      <td>Ewallet</td>\n",
       "      <td>522.83</td>\n",
       "      <td>4.761905</td>\n",
       "      <td>26.1415</td>\n",
       "      <td>9.1</td>\n",
       "      <td>1</td>\n",
       "      <td>5</td>\n",
       "    </tr>\n",
       "    <tr>\n",
       "      <th>1</th>\n",
       "      <td>226-31-3081</td>\n",
       "      <td>C</td>\n",
       "      <td>Naypyitaw</td>\n",
       "      <td>Normal</td>\n",
       "      <td>Female</td>\n",
       "      <td>Electronic accessories</td>\n",
       "      <td>15.28</td>\n",
       "      <td>5</td>\n",
       "      <td>80.2200</td>\n",
       "      <td>2019-03-08</td>\n",
       "      <td>10:29:00</td>\n",
       "      <td>Cash</td>\n",
       "      <td>76.40</td>\n",
       "      <td>4.761905</td>\n",
       "      <td>3.8200</td>\n",
       "      <td>9.6</td>\n",
       "      <td>3</td>\n",
       "      <td>4</td>\n",
       "    </tr>\n",
       "    <tr>\n",
       "      <th>2</th>\n",
       "      <td>631-41-3108</td>\n",
       "      <td>A</td>\n",
       "      <td>Yangon</td>\n",
       "      <td>Normal</td>\n",
       "      <td>Male</td>\n",
       "      <td>Home and lifestyle</td>\n",
       "      <td>46.33</td>\n",
       "      <td>7</td>\n",
       "      <td>340.5255</td>\n",
       "      <td>2019-03-03</td>\n",
       "      <td>13:23:00</td>\n",
       "      <td>Credit card</td>\n",
       "      <td>324.31</td>\n",
       "      <td>4.761905</td>\n",
       "      <td>16.2155</td>\n",
       "      <td>7.4</td>\n",
       "      <td>3</td>\n",
       "      <td>6</td>\n",
       "    </tr>\n",
       "  </tbody>\n",
       "</table>\n",
       "</div>"
      ],
      "text/plain": [
       "    Invoice ID Branch       City Customer type  Gender  \\\n",
       "0  750-67-8428      A     Yangon        Member  Female   \n",
       "1  226-31-3081      C  Naypyitaw        Normal  Female   \n",
       "2  631-41-3108      A     Yangon        Normal    Male   \n",
       "\n",
       "             Product line  Unit price  Quantity     Total       Date  \\\n",
       "0       Health and beauty       74.69         7  548.9715 2019-01-05   \n",
       "1  Electronic accessories       15.28         5   80.2200 2019-03-08   \n",
       "2      Home and lifestyle       46.33         7  340.5255 2019-03-03   \n",
       "\n",
       "       Time      Payment  Cost of goods sold  gross margin percentage  \\\n",
       "0  13:08:00      Ewallet              522.83                 4.761905   \n",
       "1  10:29:00         Cash               76.40                 4.761905   \n",
       "2  13:23:00  Credit card              324.31                 4.761905   \n",
       "\n",
       "   gross income  Rating  month  weekday  \n",
       "0       26.1415     9.1      1        5  \n",
       "1        3.8200     9.6      3        4  \n",
       "2       16.2155     7.4      3        6  "
      ]
     },
     "execution_count": 14,
     "metadata": {},
     "output_type": "execute_result"
    }
   ],
   "source": [
    "from datetime import datetime as dt\n",
    "df[\"weekday\"]=df.Date.dt.weekday\n",
    "df.head(3)"
   ]
  },
  {
   "cell_type": "code",
   "execution_count": null,
   "id": "d59c03d5-a36b-415e-88e3-bda69e374811",
   "metadata": {},
   "outputs": [],
   "source": []
  },
  {
   "cell_type": "markdown",
   "id": "b59e6ea1-e457-4312-866a-92c51d6ce190",
   "metadata": {},
   "source": [
    "#### Adding the attribute Margin_income to df"
   ]
  },
  {
   "cell_type": "code",
   "execution_count": 15,
   "id": "dbb72510-ff97-42dc-b518-81ffe1069146",
   "metadata": {},
   "outputs": [
    {
     "data": {
      "text/html": [
       "<div>\n",
       "<style scoped>\n",
       "    .dataframe tbody tr th:only-of-type {\n",
       "        vertical-align: middle;\n",
       "    }\n",
       "\n",
       "    .dataframe tbody tr th {\n",
       "        vertical-align: top;\n",
       "    }\n",
       "\n",
       "    .dataframe thead th {\n",
       "        text-align: right;\n",
       "    }\n",
       "</style>\n",
       "<table border=\"1\" class=\"dataframe\">\n",
       "  <thead>\n",
       "    <tr style=\"text-align: right;\">\n",
       "      <th></th>\n",
       "      <th>Invoice ID</th>\n",
       "      <th>Branch</th>\n",
       "      <th>City</th>\n",
       "      <th>Customer type</th>\n",
       "      <th>Gender</th>\n",
       "      <th>Product line</th>\n",
       "      <th>Unit price</th>\n",
       "      <th>Quantity</th>\n",
       "      <th>Total</th>\n",
       "      <th>Date</th>\n",
       "      <th>Time</th>\n",
       "      <th>Payment</th>\n",
       "      <th>Cost of goods sold</th>\n",
       "      <th>gross margin percentage</th>\n",
       "      <th>gross income</th>\n",
       "      <th>Rating</th>\n",
       "      <th>month</th>\n",
       "      <th>weekday</th>\n",
       "      <th>Margin_income</th>\n",
       "    </tr>\n",
       "  </thead>\n",
       "  <tbody>\n",
       "    <tr>\n",
       "      <th>0</th>\n",
       "      <td>750-67-8428</td>\n",
       "      <td>A</td>\n",
       "      <td>Yangon</td>\n",
       "      <td>Member</td>\n",
       "      <td>Female</td>\n",
       "      <td>Health and beauty</td>\n",
       "      <td>74.69</td>\n",
       "      <td>7</td>\n",
       "      <td>548.9715</td>\n",
       "      <td>2019-01-05</td>\n",
       "      <td>13:08:00</td>\n",
       "      <td>Ewallet</td>\n",
       "      <td>522.83</td>\n",
       "      <td>4.761905</td>\n",
       "      <td>26.1415</td>\n",
       "      <td>9.1</td>\n",
       "      <td>1</td>\n",
       "      <td>5</td>\n",
       "      <td>2614.15</td>\n",
       "    </tr>\n",
       "    <tr>\n",
       "      <th>1</th>\n",
       "      <td>226-31-3081</td>\n",
       "      <td>C</td>\n",
       "      <td>Naypyitaw</td>\n",
       "      <td>Normal</td>\n",
       "      <td>Female</td>\n",
       "      <td>Electronic accessories</td>\n",
       "      <td>15.28</td>\n",
       "      <td>5</td>\n",
       "      <td>80.2200</td>\n",
       "      <td>2019-03-08</td>\n",
       "      <td>10:29:00</td>\n",
       "      <td>Cash</td>\n",
       "      <td>76.40</td>\n",
       "      <td>4.761905</td>\n",
       "      <td>3.8200</td>\n",
       "      <td>9.6</td>\n",
       "      <td>3</td>\n",
       "      <td>4</td>\n",
       "      <td>382.00</td>\n",
       "    </tr>\n",
       "    <tr>\n",
       "      <th>2</th>\n",
       "      <td>631-41-3108</td>\n",
       "      <td>A</td>\n",
       "      <td>Yangon</td>\n",
       "      <td>Normal</td>\n",
       "      <td>Male</td>\n",
       "      <td>Home and lifestyle</td>\n",
       "      <td>46.33</td>\n",
       "      <td>7</td>\n",
       "      <td>340.5255</td>\n",
       "      <td>2019-03-03</td>\n",
       "      <td>13:23:00</td>\n",
       "      <td>Credit card</td>\n",
       "      <td>324.31</td>\n",
       "      <td>4.761905</td>\n",
       "      <td>16.2155</td>\n",
       "      <td>7.4</td>\n",
       "      <td>3</td>\n",
       "      <td>6</td>\n",
       "      <td>1621.55</td>\n",
       "    </tr>\n",
       "  </tbody>\n",
       "</table>\n",
       "</div>"
      ],
      "text/plain": [
       "    Invoice ID Branch       City Customer type  Gender  \\\n",
       "0  750-67-8428      A     Yangon        Member  Female   \n",
       "1  226-31-3081      C  Naypyitaw        Normal  Female   \n",
       "2  631-41-3108      A     Yangon        Normal    Male   \n",
       "\n",
       "             Product line  Unit price  Quantity     Total       Date  \\\n",
       "0       Health and beauty       74.69         7  548.9715 2019-01-05   \n",
       "1  Electronic accessories       15.28         5   80.2200 2019-03-08   \n",
       "2      Home and lifestyle       46.33         7  340.5255 2019-03-03   \n",
       "\n",
       "       Time      Payment  Cost of goods sold  gross margin percentage  \\\n",
       "0  13:08:00      Ewallet              522.83                 4.761905   \n",
       "1  10:29:00         Cash               76.40                 4.761905   \n",
       "2  13:23:00  Credit card              324.31                 4.761905   \n",
       "\n",
       "   gross income  Rating  month  weekday  Margin_income  \n",
       "0       26.1415     9.1      1        5        2614.15  \n",
       "1        3.8200     9.6      3        4         382.00  \n",
       "2       16.2155     7.4      3        6        1621.55  "
      ]
     },
     "execution_count": 15,
     "metadata": {},
     "output_type": "execute_result"
    }
   ],
   "source": [
    "df[\"Margin_income\"]=df[\"Total\"]*df[\"gross margin percentage\"]\n",
    "df.head(3)   "
   ]
  },
  {
   "cell_type": "code",
   "execution_count": null,
   "id": "ae584f86-37cc-4d40-8231-4acd06d35651",
   "metadata": {},
   "outputs": [],
   "source": []
  },
  {
   "cell_type": "markdown",
   "id": "5a96b319-4cd3-4f2b-a4e7-4272b25e34bf",
   "metadata": {},
   "source": [
    "### checking attributes types"
   ]
  },
  {
   "cell_type": "code",
   "execution_count": 16,
   "id": "e7e47c2c-4b4d-4694-9179-189cac316dd1",
   "metadata": {},
   "outputs": [
    {
     "data": {
      "text/plain": [
       "Invoice ID                         object\n",
       "Branch                             object\n",
       "City                               object\n",
       "Customer type                      object\n",
       "Gender                             object\n",
       "Product line                       object\n",
       "Unit price                        float64\n",
       "Quantity                            int64\n",
       "Total                             float64\n",
       "Date                       datetime64[ns]\n",
       "Time                               object\n",
       "Payment                            object\n",
       "Cost of goods sold                float64\n",
       "gross margin percentage           float64\n",
       "gross income                      float64\n",
       "Rating                            float64\n",
       "month                               int64\n",
       "weekday                             int64\n",
       "Margin_income                     float64\n",
       "dtype: object"
      ]
     },
     "execution_count": 16,
     "metadata": {},
     "output_type": "execute_result"
    }
   ],
   "source": [
    "df.dtypes"
   ]
  },
  {
   "cell_type": "code",
   "execution_count": null,
   "id": "d773c2d5-d4fa-41eb-b473-70782a70ce68",
   "metadata": {},
   "outputs": [],
   "source": []
  },
  {
   "cell_type": "markdown",
   "id": "bb69d3e2-0ccc-42c3-bba0-8785b6e4406a",
   "metadata": {},
   "source": [
    "####  Decoding the month column as \n",
    "\n",
    "1: January\n",
    "\n",
    "2: February\n",
    "\n",
    "3: March"
   ]
  },
  {
   "cell_type": "code",
   "execution_count": 17,
   "id": "4de64806-cb55-4189-98fc-7f2e2b004918",
   "metadata": {},
   "outputs": [
    {
     "data": {
      "text/html": [
       "<div>\n",
       "<style scoped>\n",
       "    .dataframe tbody tr th:only-of-type {\n",
       "        vertical-align: middle;\n",
       "    }\n",
       "\n",
       "    .dataframe tbody tr th {\n",
       "        vertical-align: top;\n",
       "    }\n",
       "\n",
       "    .dataframe thead th {\n",
       "        text-align: right;\n",
       "    }\n",
       "</style>\n",
       "<table border=\"1\" class=\"dataframe\">\n",
       "  <thead>\n",
       "    <tr style=\"text-align: right;\">\n",
       "      <th></th>\n",
       "      <th>Invoice ID</th>\n",
       "      <th>Branch</th>\n",
       "      <th>City</th>\n",
       "      <th>Customer type</th>\n",
       "      <th>Gender</th>\n",
       "      <th>Product line</th>\n",
       "      <th>Unit price</th>\n",
       "      <th>Quantity</th>\n",
       "      <th>Total</th>\n",
       "      <th>Date</th>\n",
       "      <th>Time</th>\n",
       "      <th>Payment</th>\n",
       "      <th>Cost of goods sold</th>\n",
       "      <th>gross margin percentage</th>\n",
       "      <th>gross income</th>\n",
       "      <th>Rating</th>\n",
       "      <th>month</th>\n",
       "      <th>weekday</th>\n",
       "      <th>Margin_income</th>\n",
       "    </tr>\n",
       "  </thead>\n",
       "  <tbody>\n",
       "    <tr>\n",
       "      <th>0</th>\n",
       "      <td>750-67-8428</td>\n",
       "      <td>A</td>\n",
       "      <td>Yangon</td>\n",
       "      <td>Member</td>\n",
       "      <td>Female</td>\n",
       "      <td>Health and beauty</td>\n",
       "      <td>74.69</td>\n",
       "      <td>7</td>\n",
       "      <td>548.9715</td>\n",
       "      <td>2019-01-05</td>\n",
       "      <td>13:08:00</td>\n",
       "      <td>Ewallet</td>\n",
       "      <td>522.83</td>\n",
       "      <td>4.761905</td>\n",
       "      <td>26.1415</td>\n",
       "      <td>9.1</td>\n",
       "      <td>January</td>\n",
       "      <td>5</td>\n",
       "      <td>2614.15</td>\n",
       "    </tr>\n",
       "    <tr>\n",
       "      <th>1</th>\n",
       "      <td>226-31-3081</td>\n",
       "      <td>C</td>\n",
       "      <td>Naypyitaw</td>\n",
       "      <td>Normal</td>\n",
       "      <td>Female</td>\n",
       "      <td>Electronic accessories</td>\n",
       "      <td>15.28</td>\n",
       "      <td>5</td>\n",
       "      <td>80.2200</td>\n",
       "      <td>2019-03-08</td>\n",
       "      <td>10:29:00</td>\n",
       "      <td>Cash</td>\n",
       "      <td>76.40</td>\n",
       "      <td>4.761905</td>\n",
       "      <td>3.8200</td>\n",
       "      <td>9.6</td>\n",
       "      <td>March</td>\n",
       "      <td>4</td>\n",
       "      <td>382.00</td>\n",
       "    </tr>\n",
       "    <tr>\n",
       "      <th>2</th>\n",
       "      <td>631-41-3108</td>\n",
       "      <td>A</td>\n",
       "      <td>Yangon</td>\n",
       "      <td>Normal</td>\n",
       "      <td>Male</td>\n",
       "      <td>Home and lifestyle</td>\n",
       "      <td>46.33</td>\n",
       "      <td>7</td>\n",
       "      <td>340.5255</td>\n",
       "      <td>2019-03-03</td>\n",
       "      <td>13:23:00</td>\n",
       "      <td>Credit card</td>\n",
       "      <td>324.31</td>\n",
       "      <td>4.761905</td>\n",
       "      <td>16.2155</td>\n",
       "      <td>7.4</td>\n",
       "      <td>March</td>\n",
       "      <td>6</td>\n",
       "      <td>1621.55</td>\n",
       "    </tr>\n",
       "  </tbody>\n",
       "</table>\n",
       "</div>"
      ],
      "text/plain": [
       "    Invoice ID Branch       City Customer type  Gender  \\\n",
       "0  750-67-8428      A     Yangon        Member  Female   \n",
       "1  226-31-3081      C  Naypyitaw        Normal  Female   \n",
       "2  631-41-3108      A     Yangon        Normal    Male   \n",
       "\n",
       "             Product line  Unit price  Quantity     Total       Date  \\\n",
       "0       Health and beauty       74.69         7  548.9715 2019-01-05   \n",
       "1  Electronic accessories       15.28         5   80.2200 2019-03-08   \n",
       "2      Home and lifestyle       46.33         7  340.5255 2019-03-03   \n",
       "\n",
       "       Time      Payment  Cost of goods sold  gross margin percentage  \\\n",
       "0  13:08:00      Ewallet              522.83                 4.761905   \n",
       "1  10:29:00         Cash               76.40                 4.761905   \n",
       "2  13:23:00  Credit card              324.31                 4.761905   \n",
       "\n",
       "   gross income  Rating    month  weekday  Margin_income  \n",
       "0       26.1415     9.1  January        5        2614.15  \n",
       "1        3.8200     9.6    March        4         382.00  \n",
       "2       16.2155     7.4    March        6        1621.55  "
      ]
     },
     "execution_count": 17,
     "metadata": {},
     "output_type": "execute_result"
    }
   ],
   "source": [
    "df[\"month\"]=df[\"month\"].replace({1:\"January\"})\n",
    "df[\"month\"]=df[\"month\"].replace({2:\"February\"})\n",
    "df[\"month\"]=df[\"month\"].replace({3:\"March\"})\n",
    "df.head(3)"
   ]
  },
  {
   "cell_type": "code",
   "execution_count": null,
   "id": "b7b23e22-d2a1-4f43-84c7-7d8b37746d55",
   "metadata": {},
   "outputs": [],
   "source": []
  },
  {
   "cell_type": "markdown",
   "id": "de125d43-2b36-481b-884c-92a744a919a0",
   "metadata": {},
   "source": [
    "#### Reducing dimensions of data (dropping 'City' column)"
   ]
  },
  {
   "cell_type": "code",
   "execution_count": 18,
   "id": "711dff95-c49d-4624-b045-3e6c8e7a5f6e",
   "metadata": {},
   "outputs": [],
   "source": [
    "df.drop('City', inplace=True, axis=1)"
   ]
  },
  {
   "cell_type": "code",
   "execution_count": 19,
   "id": "45809130-62fc-4de8-931b-358d2a4e575f",
   "metadata": {},
   "outputs": [
    {
     "data": {
      "text/plain": [
       "(1000, 18)"
      ]
     },
     "execution_count": 19,
     "metadata": {},
     "output_type": "execute_result"
    }
   ],
   "source": [
    "df.shape"
   ]
  },
  {
   "cell_type": "code",
   "execution_count": null,
   "id": "b2955fa3-0042-4714-9b16-bf0cef399b60",
   "metadata": {},
   "outputs": [],
   "source": []
  },
  {
   "cell_type": "markdown",
   "id": "687a1248-74c9-4036-9896-2b1806a56b2d",
   "metadata": {},
   "source": [
    "#### checking outliers using box plots"
   ]
  },
  {
   "cell_type": "code",
   "execution_count": 20,
   "id": "a49a4adc-4403-4592-91b6-887ddf03def9",
   "metadata": {},
   "outputs": [
    {
     "data": {
      "image/png": "[encoded data removed]",
      "text/plain": [
       "<Figure size 700x300 with 1 Axes>"
      ]
     },
     "metadata": {},
     "output_type": "display_data"
    }
   ],
   "source": [
    "# Tovisualize using seaborn\n",
    "sns.set()\n",
    "# Set the figure size\n",
    "plt.rcParams[\"figure.figsize\"] = [7, 3]\n",
    "plt.rcParams[\"figure.autolayout\"] = True\n",
    "\n",
    "# Pandas dataframe\n",
    "data = pd.DataFrame({\"Unit price\",\"Quantity\",\"Total \",\"Cost of goods sold\", \"gross income\",\"Rating\"})\n",
    "\n",
    "# Plot the dataframe\n",
    "ax = sns.boxplot(df[[\"Unit price\",\"Quantity\",\"Total\",\"Cost of goods sold\", \"gross income\",\"Rating\"]])\n",
    "\n",
    "# Display the plot\n",
    "plt.show()"
   ]
  },
  {
   "cell_type": "code",
   "execution_count": null,
   "id": "1b30f5b0-03cc-4b7b-b7f2-ce7bddca6402",
   "metadata": {},
   "outputs": [],
   "source": []
  },
  {
   "cell_type": "markdown",
   "id": "7cf06bcc-b9fc-4efd-9db8-0e7c67f91768",
   "metadata": {},
   "source": [
    "#### checking outliers using interquartile range (IQR)\n",
    "\n",
    "This method of detecting and removing of  outliers is suggested since not all data is normal or normal enough to treat it as being drawn from Gaussian distribution.<br>\n",
    "Firstly, we need to calculate the interquartile range (IQR).<br>\n",
    "\n",
    "\\begin{align}\n",
    "IQR = Q_{3}-Q_{1}\n",
    "\\end{align}\n",
    "\n",
    "We need to calculate lower limit and upper limit in order to use this method.<br>\n",
    "lower_limit = $Q_{1}-1.5(IQR)$ and upper_limit = $Q_{3}+1.5(IQR)$ <br>\n",
    "\n",
    "Where,<br>\n",
    "$Q_{1}$ = $25^{th}$ percentile.<br> \n",
    "$Q_{3}$ = $75^{th}$ percentile.<br>\n",
    "\n",
    "All the values below the __lower_limit__ are considered as outliers. Also all the values above the __upper_limit__ are considered as outliers."
   ]
  },
  {
   "cell_type": "markdown",
   "id": "9970a319-b2c4-4bb6-b712-0e74a183a1b7",
   "metadata": {},
   "source": [
    "Since outliers can be maintained for this project, for demonstration purposes, let us indentify and remove outliers by creating a new dataframe (df3) for 'total' column from our original dataset "
   ]
  },
  {
   "cell_type": "code",
   "execution_count": 21,
   "id": "12afad72-2423-4872-a28f-46f0ebc3d2d4",
   "metadata": {},
   "outputs": [
    {
     "data": {
      "text/plain": [
       "<AxesSubplot: >"
      ]
     },
     "execution_count": 21,
     "metadata": {},
     "output_type": "execute_result"
    },
    {
     "data": {
      "image/png": "[encoded data removed]",
      "text/plain": [
       "<Figure size 700x300 with 1 Axes>"
      ]
     },
     "metadata": {},
     "output_type": "display_data"
    }
   ],
   "source": [
    "sns.boxplot(df['Total'])"
   ]
  },
  {
   "cell_type": "code",
   "execution_count": 22,
   "id": "5c87ff47-e8b0-4a2c-9e3c-5891a95c872b",
   "metadata": {},
   "outputs": [
    {
     "data": {
      "text/html": [
       "<div>\n",
       "<style scoped>\n",
       "    .dataframe tbody tr th:only-of-type {\n",
       "        vertical-align: middle;\n",
       "    }\n",
       "\n",
       "    .dataframe tbody tr th {\n",
       "        vertical-align: top;\n",
       "    }\n",
       "\n",
       "    .dataframe thead th {\n",
       "        text-align: right;\n",
       "    }\n",
       "</style>\n",
       "<table border=\"1\" class=\"dataframe\">\n",
       "  <thead>\n",
       "    <tr style=\"text-align: right;\">\n",
       "      <th></th>\n",
       "      <th>Total</th>\n",
       "    </tr>\n",
       "  </thead>\n",
       "  <tbody>\n",
       "    <tr>\n",
       "      <th>0</th>\n",
       "      <td>548.9715</td>\n",
       "    </tr>\n",
       "    <tr>\n",
       "      <th>1</th>\n",
       "      <td>80.2200</td>\n",
       "    </tr>\n",
       "    <tr>\n",
       "      <th>2</th>\n",
       "      <td>340.5255</td>\n",
       "    </tr>\n",
       "  </tbody>\n",
       "</table>\n",
       "</div>"
      ],
      "text/plain": [
       "      Total\n",
       "0  548.9715\n",
       "1   80.2200\n",
       "2  340.5255"
      ]
     },
     "execution_count": 22,
     "metadata": {},
     "output_type": "execute_result"
    }
   ],
   "source": [
    "df3 = df[['Total']]\n",
    "df3.head(3)"
   ]
  },
  {
   "cell_type": "code",
   "execution_count": 23,
   "id": "c2e4a45c-5934-477e-9055-c157e540b8a1",
   "metadata": {},
   "outputs": [
    {
     "data": {
      "text/plain": [
       "(124.422375, 471.35024999999996)"
      ]
     },
     "execution_count": 23,
     "metadata": {},
     "output_type": "execute_result"
    }
   ],
   "source": [
    "Q1 = df3.Total.quantile(0.25)\n",
    "Q3 = df3.Total.quantile(0.75)\n",
    "Q1,Q3"
   ]
  },
  {
   "cell_type": "code",
   "execution_count": 24,
   "id": "96008f24-e056-4c54-a585-3ff66c9b6f0e",
   "metadata": {},
   "outputs": [
    {
     "data": {
      "text/plain": [
       "346.927875"
      ]
     },
     "execution_count": 24,
     "metadata": {},
     "output_type": "execute_result"
    }
   ],
   "source": [
    "IQR = Q3-Q1\n",
    "IQR"
   ]
  },
  {
   "cell_type": "code",
   "execution_count": 25,
   "id": "e4dad544-393d-4702-87ea-c4a28002d316",
   "metadata": {},
   "outputs": [
    {
     "data": {
      "text/plain": [
       "(-395.9694375, 991.7420625)"
      ]
     },
     "execution_count": 25,
     "metadata": {},
     "output_type": "execute_result"
    }
   ],
   "source": [
    "lower_limit = Q1-1.5*IQR\n",
    "upper_limit = Q3+1.5*IQR\n",
    "lower_limit,upper_limit"
   ]
  },
  {
   "cell_type": "markdown",
   "id": "2a09a5f4-5f0a-4ef8-8d70-8e1f38e6b783",
   "metadata": {},
   "source": [
    "Detecting outliers"
   ]
  },
  {
   "cell_type": "code",
   "execution_count": 26,
   "id": "f4b75f2f-a297-4d65-a3c3-104e5d04cce2",
   "metadata": {},
   "outputs": [
    {
     "data": {
      "text/html": [
       "<div>\n",
       "<style scoped>\n",
       "    .dataframe tbody tr th:only-of-type {\n",
       "        vertical-align: middle;\n",
       "    }\n",
       "\n",
       "    .dataframe tbody tr th {\n",
       "        vertical-align: top;\n",
       "    }\n",
       "\n",
       "    .dataframe thead th {\n",
       "        text-align: right;\n",
       "    }\n",
       "</style>\n",
       "<table border=\"1\" class=\"dataframe\">\n",
       "  <thead>\n",
       "    <tr style=\"text-align: right;\">\n",
       "      <th></th>\n",
       "      <th>Total</th>\n",
       "    </tr>\n",
       "  </thead>\n",
       "  <tbody>\n",
       "    <tr>\n",
       "      <th>166</th>\n",
       "      <td>1003.590</td>\n",
       "    </tr>\n",
       "    <tr>\n",
       "      <th>167</th>\n",
       "      <td>1039.290</td>\n",
       "    </tr>\n",
       "    <tr>\n",
       "      <th>350</th>\n",
       "      <td>1042.650</td>\n",
       "    </tr>\n",
       "    <tr>\n",
       "      <th>357</th>\n",
       "      <td>1002.120</td>\n",
       "    </tr>\n",
       "    <tr>\n",
       "      <th>422</th>\n",
       "      <td>1020.705</td>\n",
       "    </tr>\n",
       "    <tr>\n",
       "      <th>557</th>\n",
       "      <td>1034.460</td>\n",
       "    </tr>\n",
       "    <tr>\n",
       "      <th>699</th>\n",
       "      <td>1023.750</td>\n",
       "    </tr>\n",
       "    <tr>\n",
       "      <th>792</th>\n",
       "      <td>1022.385</td>\n",
       "    </tr>\n",
       "    <tr>\n",
       "      <th>996</th>\n",
       "      <td>1022.490</td>\n",
       "    </tr>\n",
       "  </tbody>\n",
       "</table>\n",
       "</div>"
      ],
      "text/plain": [
       "        Total\n",
       "166  1003.590\n",
       "167  1039.290\n",
       "350  1042.650\n",
       "357  1002.120\n",
       "422  1020.705\n",
       "557  1034.460\n",
       "699  1023.750\n",
       "792  1022.385\n",
       "996  1022.490"
      ]
     },
     "execution_count": 26,
     "metadata": {},
     "output_type": "execute_result"
    }
   ],
   "source": [
    "df3[(df3.Total<lower_limit)|(df3.Total>upper_limit)]"
   ]
  },
  {
   "cell_type": "markdown",
   "id": "cb4b2fb7-6548-4b56-93b1-5cf99e139c29",
   "metadata": {},
   "source": [
    "Creating a new dataframe without outliers"
   ]
  },
  {
   "cell_type": "code",
   "execution_count": 27,
   "id": "63b8a48f-1a64-4666-af5b-8fcb6d90b831",
   "metadata": {},
   "outputs": [],
   "source": [
    "df3_without_outliers= df3[(df3.Total>lower_limit)&(df3.Total<upper_limit)]"
   ]
  },
  {
   "cell_type": "code",
   "execution_count": 28,
   "id": "c73a7ade-990f-4f41-9847-f85e9014ffb8",
   "metadata": {},
   "outputs": [
    {
     "data": {
      "text/plain": [
       "<AxesSubplot: >"
      ]
     },
     "execution_count": 28,
     "metadata": {},
     "output_type": "execute_result"
    },
    {
     "data": {
      "image/png": "[encoded data removed]",
      "text/plain": [
       "<Figure size 700x300 with 1 Axes>"
      ]
     },
     "metadata": {},
     "output_type": "display_data"
    }
   ],
   "source": [
    "sns.boxplot(df3_without_outliers)"
   ]
  },
  {
   "cell_type": "markdown",
   "id": "4c026f0a-1f3b-42e8-85ff-58af8adbabd3",
   "metadata": {},
   "source": [
    "From the above output, we notice the box-plot has no outliers"
   ]
  },
  {
   "cell_type": "code",
   "execution_count": null,
   "id": "bcf46e3f-2575-473d-a798-bf76f64f88da",
   "metadata": {},
   "outputs": [],
   "source": []
  },
  {
   "cell_type": "code",
   "execution_count": null,
   "id": "a3cfc5e6-fe09-46ac-80c0-12fa854adf3b",
   "metadata": {},
   "outputs": [],
   "source": []
  },
  {
   "cell_type": "markdown",
   "id": "2e2296ca-50db-4077-b1ba-a999a307093e",
   "metadata": {},
   "source": [
    "##  __Section 3 : checking relationships__"
   ]
  },
  {
   "cell_type": "markdown",
   "id": "d5f407cf-459a-402a-a71c-09a3bee62735",
   "metadata": {},
   "source": [
    "### - Correlation matrix"
   ]
  },
  {
   "cell_type": "code",
   "execution_count": 29,
   "id": "61f3c478-d206-4bdc-af8d-61c33aff85e1",
   "metadata": {},
   "outputs": [
    {
     "data": {
      "image/png": "[encoded data removed]",
      "text/plain": [
       "<Figure size 800x800 with 2 Axes>"
      ]
     },
     "metadata": {},
     "output_type": "display_data"
    }
   ],
   "source": [
    "plt.figure(figsize=(8,8))\n",
    "cor_matrix=df.corr(method=\"spearman\")  # spearman is used as it has outliers \n",
    "sns.heatmap(cor_matrix,annot=True);\n",
    "# Note that pearson correlation is prefered for the data sets without outliers as it is robust compared to spearman"
   ]
  },
  {
   "cell_type": "code",
   "execution_count": null,
   "id": "76202990-3a5d-4928-b900-d23c0e087f86",
   "metadata": {},
   "outputs": [],
   "source": []
  },
  {
   "cell_type": "markdown",
   "id": "4b6c3efe-158e-4b09-9a4f-82c1bd10916f",
   "metadata": {},
   "source": [
    "### - Ranked correlation"
   ]
  },
  {
   "cell_type": "code",
   "execution_count": 30,
   "id": "5b39ced3-f68a-4c47-b5e4-cf13e33202e7",
   "metadata": {},
   "outputs": [],
   "source": [
    "unstack=cor_matrix.unstack()"
   ]
  },
  {
   "cell_type": "code",
   "execution_count": 31,
   "id": "8572f4b7-e931-4100-aea7-fd3d0d3fd7de",
   "metadata": {},
   "outputs": [],
   "source": [
    "sort = unstack.sort_values()"
   ]
  },
  {
   "cell_type": "code",
   "execution_count": 32,
   "id": "69825198-2a16-4f4a-b67e-779e76878c29",
   "metadata": {},
   "outputs": [
    {
     "data": {
      "text/html": [
       "<div>\n",
       "<style scoped>\n",
       "    .dataframe tbody tr th:only-of-type {\n",
       "        vertical-align: middle;\n",
       "    }\n",
       "\n",
       "    .dataframe tbody tr th {\n",
       "        vertical-align: top;\n",
       "    }\n",
       "\n",
       "    .dataframe thead th {\n",
       "        text-align: right;\n",
       "    }\n",
       "</style>\n",
       "<table border=\"1\" class=\"dataframe\">\n",
       "  <thead>\n",
       "    <tr style=\"text-align: right;\">\n",
       "      <th></th>\n",
       "      <th></th>\n",
       "      <th>Value</th>\n",
       "    </tr>\n",
       "  </thead>\n",
       "  <tbody>\n",
       "    <tr>\n",
       "      <th rowspan=\"4\" valign=\"top\">Quantity</th>\n",
       "      <th>Total</th>\n",
       "      <td>0.735265</td>\n",
       "    </tr>\n",
       "    <tr>\n",
       "      <th>Cost of goods sold</th>\n",
       "      <td>0.735265</td>\n",
       "    </tr>\n",
       "    <tr>\n",
       "      <th>gross income</th>\n",
       "      <td>0.735265</td>\n",
       "    </tr>\n",
       "    <tr>\n",
       "      <th>Margin_income</th>\n",
       "      <td>0.735265</td>\n",
       "    </tr>\n",
       "    <tr>\n",
       "      <th>Total</th>\n",
       "      <th>Quantity</th>\n",
       "      <td>0.735265</td>\n",
       "    </tr>\n",
       "    <tr>\n",
       "      <th>gross income</th>\n",
       "      <th>Quantity</th>\n",
       "      <td>0.735265</td>\n",
       "    </tr>\n",
       "    <tr>\n",
       "      <th>Margin_income</th>\n",
       "      <th>Quantity</th>\n",
       "      <td>0.735265</td>\n",
       "    </tr>\n",
       "    <tr>\n",
       "      <th>Cost of goods sold</th>\n",
       "      <th>Quantity</th>\n",
       "      <td>0.735265</td>\n",
       "    </tr>\n",
       "  </tbody>\n",
       "</table>\n",
       "</div>"
      ],
      "text/plain": [
       "                                          Value\n",
       "Quantity           Total               0.735265\n",
       "                   Cost of goods sold  0.735265\n",
       "                   gross income        0.735265\n",
       "                   Margin_income       0.735265\n",
       "Total              Quantity            0.735265\n",
       "gross income       Quantity            0.735265\n",
       "Margin_income      Quantity            0.735265\n",
       "Cost of goods sold Quantity            0.735265"
      ]
     },
     "execution_count": 32,
     "metadata": {},
     "output_type": "execute_result"
    }
   ],
   "source": [
    "high_cor=sort[((sort)<1)&((sort)>0.7)]\n",
    "high_cor.to_frame(name= 'Value')"
   ]
  },
  {
   "cell_type": "code",
   "execution_count": null,
   "id": "76b7ab28-d5f1-4cea-9fe4-9e95d970ccf9",
   "metadata": {},
   "outputs": [],
   "source": []
  },
  {
   "cell_type": "markdown",
   "id": "31728a6c-070c-48e5-a447-6c3b35b6ff2d",
   "metadata": {},
   "source": [
    "### - Regression\n",
    "\n",
    "Let us check if there is a linear relationship between Quantity of goods and other variables exhibiting high correlation from the above output."
   ]
  },
  {
   "cell_type": "code",
   "execution_count": 33,
   "id": "2ba69187-b576-4f6a-b4ed-7b3a20fc1b34",
   "metadata": {},
   "outputs": [
    {
     "data": {
      "image/png": "[encoded data removed]",
      "text/plain": [
       "<Figure size 800x600 with 4 Axes>"
      ]
     },
     "metadata": {},
     "output_type": "display_data"
    }
   ],
   "source": [
    "plt.figure(figsize = (8,6))\n",
    "plt.suptitle('Regression plots for correlation between Quantity & other variables')\n",
    "plt.subplots_adjust(left=0.1, bottom=0.1,right=0.2,top=0.2,wspace=2,hspace=2)\n",
    "\n",
    "plt.subplot(2,2,1)\n",
    "plt.title('Quantity vs Total')\n",
    "sns.regplot(x=df['Quantity'], y=df['Total'], data = df[['Quantity','Total']])\n",
    "\n",
    "plt.subplot(2,2,2)\n",
    "plt.title('Quantity vs gross income')\n",
    "sns.regplot(x=df['Quantity'], y=df['gross income'], data = df[['Quantity','gross income']])\n",
    "\n",
    "plt.subplot(2,2,3)\n",
    "plt.title('Quantity vs Margin_income')\n",
    "sns.regplot(x=df['Quantity'], y=df['Margin_income'], data = df[['Quantity','Margin_income']])\n",
    "\n",
    "plt.subplot(2,2,4)\n",
    "plt.title('Quantity vs Cost of goods sold')\n",
    "sns.regplot(x=df['Quantity'], y=df['Cost of goods sold'], data = df[['Quantity','Cost of goods sold']])\n",
    "plt.show()"
   ]
  },
  {
   "cell_type": "code",
   "execution_count": null,
   "id": "c0fadb62-4e80-43c5-8d6d-dc75b8daac57",
   "metadata": {},
   "outputs": [],
   "source": []
  },
  {
   "cell_type": "markdown",
   "id": "e4103165-a556-4bfa-bcc7-525b939ecba3",
   "metadata": {},
   "source": [
    "## __Section 4: Business insights__"
   ]
  },
  {
   "cell_type": "markdown",
   "id": "3af6f67f-a803-4058-93fa-b0f893f2f4c1",
   "metadata": {
    "tags": []
   },
   "source": [
    "__Usiful operations and functions__<br>\n",
    "\n",
    " - *Groupby operation:* This is an operation which involves some combination of splitting the object, applying a function and combining the results.<br>\n",
    " - *Aggregate functions:* A mathematical computation involving a range of values that results in just a single value expressing the significance of the accumulated data.<br>\n",
    " \n",
    "By utilizing the power of groupby operations and aggregate functions, 33 insights were derived from the dataset."
   ]
  },
  {
   "cell_type": "markdown",
   "id": "275cecd7-5058-45e9-9b67-762cf5dbcc6d",
   "metadata": {},
   "source": [
    "### (1) Find Total sale and total margin_income of the company "
   ]
  },
  {
   "cell_type": "code",
   "execution_count": 34,
   "id": "2bc1fc7e-d4d5-4942-b19c-73d4c104d663",
   "metadata": {},
   "outputs": [
    {
     "name": "stdout",
     "output_type": "stream",
     "text": [
      "Total/Gross sale is :  322966.749\n",
      "Total margin_income is :  1537936.900030759\n"
     ]
    }
   ],
   "source": [
    "print(\"Total/Gross sale is : \",df[\"Total\"].sum())\n",
    "print(\"Total margin_income is : \",df[\"Margin_income\"].sum())"
   ]
  },
  {
   "cell_type": "markdown",
   "id": "85cef112-5cde-426d-acc1-68ad520da5d5",
   "metadata": {},
   "source": [
    "From the above digits,<br>\n",
    "- The value of all invoices for an accounting period of three months before making any adjustment is __322,966.749__<br>\n",
    " - The amount of money the firm returns after including the direct costs associated with producing the goods it sells is __1,537,936.900030759__"
   ]
  },
  {
   "cell_type": "code",
   "execution_count": null,
   "id": "193c841f-b369-471d-901c-c954c5ce3638",
   "metadata": {},
   "outputs": [],
   "source": []
  },
  {
   "cell_type": "markdown",
   "id": "7027a020-d594-4993-b303-5ff55ab27350",
   "metadata": {},
   "source": [
    "### (2) Find Total sale and Margin_income of each branch"
   ]
  },
  {
   "cell_type": "code",
   "execution_count": 35,
   "id": "ef0abd70-4021-476d-8fc0-0a2471a41b48",
   "metadata": {},
   "outputs": [
    {
     "name": "stdout",
     "output_type": "stream",
     "text": [
      "Total sale\n",
      "\n",
      "Branch\n",
      "A    106200.3705\n",
      "B    106197.6720\n",
      "C    110568.7065\n",
      "Name: Total, dtype: float64 \n",
      "\n",
      "Total margin_income \n",
      "\n",
      "Branch\n",
      "A    505716.050010\n",
      "B    505703.200010\n",
      "C    526517.650011\n",
      "Name: Margin_income, dtype: float64 \n",
      "\n"
     ]
    }
   ],
   "source": [
    "print(\"Total sale\\n\")\n",
    "print(df.groupby([\"Branch\"])[\"Total\"].sum(),\"\\n\")\n",
    "print(\"Total margin_income \\n\")\n",
    "print(df.groupby([\"Branch\"])[\"Margin_income\"].sum(),\"\\n\")"
   ]
  },
  {
   "cell_type": "code",
   "execution_count": null,
   "id": "7fc9fa89-94d7-4343-9e2a-fa58f7fef42e",
   "metadata": {},
   "outputs": [],
   "source": []
  },
  {
   "cell_type": "markdown",
   "id": "3ba8d156-a05f-4a8d-8525-05d601117dd5",
   "metadata": {},
   "source": [
    "### (3) Find Total sale of all months for each branches "
   ]
  },
  {
   "cell_type": "code",
   "execution_count": 36,
   "id": "a250cafa-4488-4b8b-b7ea-a178e5881977",
   "metadata": {},
   "outputs": [
    {
     "data": {
      "text/plain": [
       "Branch  month   \n",
       "A       February    29860.1205\n",
       "        January     38681.1285\n",
       "        March       37659.1215\n",
       "B       February    34424.2710\n",
       "        January     37176.0585\n",
       "        March       34597.3425\n",
       "C       February    32934.9825\n",
       "        January     40434.6810\n",
       "        March       37199.0430\n",
       "Name: Total, dtype: float64"
      ]
     },
     "execution_count": 36,
     "metadata": {},
     "output_type": "execute_result"
    }
   ],
   "source": [
    "df.groupby([\"Branch\",\"month\"])[\"Total\"].sum()"
   ]
  },
  {
   "cell_type": "code",
   "execution_count": null,
   "id": "5190279d-486a-4e17-a301-6a359172ad77",
   "metadata": {},
   "outputs": [],
   "source": []
  },
  {
   "cell_type": "markdown",
   "id": "d292ac59-304a-4339-9787-1f857f043f95",
   "metadata": {},
   "source": [
    "#### (4) Find total weekdays sale and weekends sale"
   ]
  },
  {
   "cell_type": "code",
   "execution_count": 37,
   "id": "16ec8bec-b6b4-4481-a5a0-fadfbb98a55a",
   "metadata": {},
   "outputs": [
    {
     "name": "stdout",
     "output_type": "stream",
     "text": [
      "weekdays sale :  222388.04700000002\n",
      "weekends sale :  100578.702\n"
     ]
    }
   ],
   "source": [
    "week_df=df[df[\"weekday\"]<5]\n",
    "weekend_df=df[df[\"weekday\"]>=5]\n",
    "print(\"weekdays sale : \",week_df[\"Total\"].sum())\n",
    "print(\"weekends sale : \",weekend_df[\"Total\"].sum())"
   ]
  },
  {
   "cell_type": "code",
   "execution_count": null,
   "id": "3661e0e3-b06f-4cad-bd78-88347dc26ab5",
   "metadata": {},
   "outputs": [],
   "source": []
  },
  {
   "cell_type": "markdown",
   "id": "223b85ae-414e-41c2-bcd1-15eb8e2f36c8",
   "metadata": {},
   "source": [
    "### (5) Find week days and weekend sale of all branches"
   ]
  },
  {
   "cell_type": "code",
   "execution_count": 38,
   "id": "0a45f04d-7fe1-42d4-b5e2-2e68005d2ad2",
   "metadata": {},
   "outputs": [
    {
     "name": "stdout",
     "output_type": "stream",
     "text": [
      "week days sale of all branches \n",
      "\n",
      "Branch\n",
      "A    72428.139\n",
      "B    74497.920\n",
      "C    75461.988\n",
      "Name: Total, dtype: float64\n",
      "weekends days sale of all barnches \n",
      "\n",
      "Branch\n",
      "A    33772.2315\n",
      "B    31699.7520\n",
      "C    35106.7185\n",
      "Name: Total, dtype: float64\n"
     ]
    }
   ],
   "source": [
    "print(\"week days sale of all branches \\n\")\n",
    "print(week_df.groupby([\"Branch\"])[\"Total\"].sum())\n",
    "print(\"weekends days sale of all barnches \\n\")\n",
    "print(weekend_df.groupby([\"Branch\"])[\"Total\"].sum())"
   ]
  },
  {
   "cell_type": "markdown",
   "id": "826ce260-081b-417b-a9ae-11c207018ead",
   "metadata": {},
   "source": [
    "##### WEEKDAY sale at branch C was highest\n",
    "\n",
    "##### WEEKEND sale at branch C was highest\n",
    "\n",
    "##### Therefore branch C of the company is doing well in terms of weekdays and weekend sales compared to the other branches."
   ]
  },
  {
   "cell_type": "code",
   "execution_count": null,
   "id": "f1e71693-0786-422f-867b-e3228bf26bea",
   "metadata": {},
   "outputs": [],
   "source": []
  },
  {
   "cell_type": "markdown",
   "id": "bc2f3348-0b73-4895-8ba1-75e32a55b57e",
   "metadata": {},
   "source": [
    "#### (6) Find Weekend and weekday sale of each month for branch A"
   ]
  },
  {
   "cell_type": "code",
   "execution_count": 39,
   "id": "6c1023d8-8424-450d-bd13-0d67ff1c1d69",
   "metadata": {},
   "outputs": [
    {
     "name": "stdout",
     "output_type": "stream",
     "text": [
      "sale trend at Branch A\n",
      "\n",
      "sale on week days in each month month\n",
      "February    20417.2395\n",
      "January     25736.4870\n",
      "March       26274.4125\n",
      "Name: Total, dtype: float64\n",
      "sale on weekend  in each month month\n",
      "February     9442.8810\n",
      "January     12944.6415\n",
      "March       11384.7090\n",
      "Name: Total, dtype: float64\n"
     ]
    }
   ],
   "source": [
    "print(\"sale trend at Branch A\\n\")\n",
    "a=df[(df[\"Branch\"] ==\"A\")]\n",
    "week_a=a[a[\"weekday\"]<5]\n",
    "weekend_a=a[a[\"weekday\"]>=5]\n",
    "\n",
    "print(\"sale on week days in each month\",week_a.groupby([\"month\"])[\"Total\"].sum())\n",
    "print(\"sale on weekend  in each month\",weekend_a.groupby([\"month\"])[\"Total\"].sum())"
   ]
  },
  {
   "cell_type": "markdown",
   "id": "8de4f5a0-d760-415d-938c-435e283a975b",
   "metadata": {},
   "source": [
    "#####  In march sale in weekday was high and In january weekend sale is high at branch A"
   ]
  },
  {
   "cell_type": "code",
   "execution_count": null,
   "id": "21a06ff7-387e-40b7-9ce0-7c9bf70563b2",
   "metadata": {},
   "outputs": [],
   "source": []
  },
  {
   "cell_type": "markdown",
   "id": "9f2759a6-bb87-4f6b-bee6-f1fa4a3599c2",
   "metadata": {},
   "source": [
    "### (7) Find Highest, Lowest and Average sales record of each branch on any day"
   ]
  },
  {
   "cell_type": "code",
   "execution_count": 40,
   "id": "3983223c-605a-48ea-88d2-d9fe87d48bd5",
   "metadata": {},
   "outputs": [
    {
     "data": {
      "text/html": [
       "<div>\n",
       "<style scoped>\n",
       "    .dataframe tbody tr th:only-of-type {\n",
       "        vertical-align: middle;\n",
       "    }\n",
       "\n",
       "    .dataframe tbody tr th {\n",
       "        vertical-align: top;\n",
       "    }\n",
       "\n",
       "    .dataframe thead th {\n",
       "        text-align: right;\n",
       "    }\n",
       "</style>\n",
       "<table border=\"1\" class=\"dataframe\">\n",
       "  <thead>\n",
       "    <tr style=\"text-align: right;\">\n",
       "      <th></th>\n",
       "      <th>max</th>\n",
       "      <th>min</th>\n",
       "      <th>mean</th>\n",
       "    </tr>\n",
       "    <tr>\n",
       "      <th>Branch</th>\n",
       "      <th></th>\n",
       "      <th></th>\n",
       "      <th></th>\n",
       "    </tr>\n",
       "  </thead>\n",
       "  <tbody>\n",
       "    <tr>\n",
       "      <th>A</th>\n",
       "      <td>1039.29</td>\n",
       "      <td>12.6945</td>\n",
       "      <td>312.354031</td>\n",
       "    </tr>\n",
       "    <tr>\n",
       "      <th>B</th>\n",
       "      <td>1022.49</td>\n",
       "      <td>18.6375</td>\n",
       "      <td>319.872506</td>\n",
       "    </tr>\n",
       "    <tr>\n",
       "      <th>C</th>\n",
       "      <td>1042.65</td>\n",
       "      <td>10.6785</td>\n",
       "      <td>337.099715</td>\n",
       "    </tr>\n",
       "  </tbody>\n",
       "</table>\n",
       "</div>"
      ],
      "text/plain": [
       "            max      min        mean\n",
       "Branch                              \n",
       "A       1039.29  12.6945  312.354031\n",
       "B       1022.49  18.6375  319.872506\n",
       "C       1042.65  10.6785  337.099715"
      ]
     },
     "execution_count": 40,
     "metadata": {},
     "output_type": "execute_result"
    }
   ],
   "source": [
    "df.groupby([\"Branch\"])[\"Total\"].agg([\"max\",\"min\",\"mean\"])"
   ]
  },
  {
   "cell_type": "markdown",
   "id": "331534da-b798-4e30-8a91-53429ce30daa",
   "metadata": {},
   "source": [
    "####  Visually we can depict highest sale record for each branch of any day as follows "
   ]
  },
  {
   "cell_type": "code",
   "execution_count": 41,
   "id": "38745ac5-df3d-4a7e-a5cf-5dfc92f2bffd",
   "metadata": {},
   "outputs": [
    {
     "data": {
      "image/png": "[encoded data removed]",
      "text/plain": [
       "<Figure size 700x300 with 1 Axes>"
      ]
     },
     "metadata": {},
     "output_type": "display_data"
    }
   ],
   "source": [
    "plt.bar(df[\"Branch\"],df[\"Total\"])  \n",
    "plt.title('sales trend')  \n",
    "plt.xlabel('branch')  \n",
    "plt.ylabel('sale amount')  \n",
    "plt.show()  "
   ]
  },
  {
   "cell_type": "markdown",
   "id": "d8730fa1-0691-4193-8667-cb23e66effb8",
   "metadata": {},
   "source": [
    "##### From the mean values, branch C has the highest sales on any day, hence the branch is likely to generate more profit compared to branch A and B"
   ]
  },
  {
   "cell_type": "code",
   "execution_count": null,
   "id": "a3b401de-1191-4296-b601-a854417beb0a",
   "metadata": {},
   "outputs": [],
   "source": []
  },
  {
   "cell_type": "markdown",
   "id": "9619c34d-8db1-4053-b2da-7fde16d5b5ea",
   "metadata": {},
   "source": [
    "### (8) At which date and month highest sale was recorded at C branch ?"
   ]
  },
  {
   "cell_type": "code",
   "execution_count": 42,
   "id": "fe0c01db-edd3-4197-a15e-37012207c144",
   "metadata": {},
   "outputs": [
    {
     "name": "stdout",
     "output_type": "stream",
     "text": [
      "the highest sale was of amount :  1042.65\n"
     ]
    },
    {
     "data": {
      "text/html": [
       "<div>\n",
       "<style scoped>\n",
       "    .dataframe tbody tr th:only-of-type {\n",
       "        vertical-align: middle;\n",
       "    }\n",
       "\n",
       "    .dataframe tbody tr th {\n",
       "        vertical-align: top;\n",
       "    }\n",
       "\n",
       "    .dataframe thead th {\n",
       "        text-align: right;\n",
       "    }\n",
       "</style>\n",
       "<table border=\"1\" class=\"dataframe\">\n",
       "  <thead>\n",
       "    <tr style=\"text-align: right;\">\n",
       "      <th></th>\n",
       "      <th>month</th>\n",
       "      <th>Date</th>\n",
       "    </tr>\n",
       "  </thead>\n",
       "  <tbody>\n",
       "    <tr>\n",
       "      <th>350</th>\n",
       "      <td>February</td>\n",
       "      <td>2019-02-15</td>\n",
       "    </tr>\n",
       "  </tbody>\n",
       "</table>\n",
       "</div>"
      ],
      "text/plain": [
       "        month       Date\n",
       "350  February 2019-02-15"
      ]
     },
     "execution_count": 42,
     "metadata": {},
     "output_type": "execute_result"
    }
   ],
   "source": [
    "print(\"the highest sale was of amount : \",df[\"Total\"].max())\n",
    "df[(df[\"Total\"]==df[\"Total\"].max()) & (df[\"Branch\"]==\"C\")][[\"month\",\"Date\"]]"
   ]
  },
  {
   "cell_type": "markdown",
   "id": "bce553e2-53dc-44f8-9008-4efe6a121e3a",
   "metadata": {},
   "source": [
    "##### The branch manager can try to identify the customer and the type of goods he/she bought on $15^{th}$ February, 2019."
   ]
  },
  {
   "cell_type": "code",
   "execution_count": null,
   "id": "a4ce89ad-6aee-46f2-931b-f68a127b6765",
   "metadata": {},
   "outputs": [],
   "source": []
  },
  {
   "cell_type": "markdown",
   "id": "4713c5f8-ccce-4e95-8ad4-77838cba314a",
   "metadata": {},
   "source": [
    "### (9) What was the category of customer and its corresponding product category?"
   ]
  },
  {
   "cell_type": "code",
   "execution_count": 43,
   "id": "d1054bc3-89ab-46ca-a119-87ca5f44eca6",
   "metadata": {},
   "outputs": [
    {
     "data": {
      "text/html": [
       "<div>\n",
       "<style scoped>\n",
       "    .dataframe tbody tr th:only-of-type {\n",
       "        vertical-align: middle;\n",
       "    }\n",
       "\n",
       "    .dataframe tbody tr th {\n",
       "        vertical-align: top;\n",
       "    }\n",
       "\n",
       "    .dataframe thead th {\n",
       "        text-align: right;\n",
       "    }\n",
       "</style>\n",
       "<table border=\"1\" class=\"dataframe\">\n",
       "  <thead>\n",
       "    <tr style=\"text-align: right;\">\n",
       "      <th></th>\n",
       "      <th>Branch</th>\n",
       "      <th>Date</th>\n",
       "      <th>Customer type</th>\n",
       "      <th>Product line</th>\n",
       "    </tr>\n",
       "  </thead>\n",
       "  <tbody>\n",
       "    <tr>\n",
       "      <th>350</th>\n",
       "      <td>C</td>\n",
       "      <td>2019-02-15</td>\n",
       "      <td>Member</td>\n",
       "      <td>Fashion accessories</td>\n",
       "    </tr>\n",
       "  </tbody>\n",
       "</table>\n",
       "</div>"
      ],
      "text/plain": [
       "    Branch       Date Customer type         Product line\n",
       "350      C 2019-02-15        Member  Fashion accessories"
      ]
     },
     "execution_count": 43,
     "metadata": {},
     "output_type": "execute_result"
    }
   ],
   "source": [
    "df[df[\"Total\"]==df[\"Total\"].max()][[\"Branch\",\"Date\",\"Customer type\",\"Product line\"]]"
   ]
  },
  {
   "cell_type": "code",
   "execution_count": null,
   "id": "177036df-e871-4e0a-ab04-b120da1fb773",
   "metadata": {},
   "outputs": [],
   "source": []
  },
  {
   "cell_type": "markdown",
   "id": "af2e3afe-1fc3-4af5-8258-1710eb4d237e",
   "metadata": {},
   "source": [
    "### (10) At which date and month lowest sale had been done at C branch ?"
   ]
  },
  {
   "cell_type": "code",
   "execution_count": 44,
   "id": "14aee0b2-11d3-4195-8f92-8cad9926e25d",
   "metadata": {},
   "outputs": [
    {
     "name": "stdout",
     "output_type": "stream",
     "text": [
      "the lowest sale was of amount :  10.6785\n"
     ]
    },
    {
     "data": {
      "text/html": [
       "<div>\n",
       "<style scoped>\n",
       "    .dataframe tbody tr th:only-of-type {\n",
       "        vertical-align: middle;\n",
       "    }\n",
       "\n",
       "    .dataframe tbody tr th {\n",
       "        vertical-align: top;\n",
       "    }\n",
       "\n",
       "    .dataframe thead th {\n",
       "        text-align: right;\n",
       "    }\n",
       "</style>\n",
       "<table border=\"1\" class=\"dataframe\">\n",
       "  <thead>\n",
       "    <tr style=\"text-align: right;\">\n",
       "      <th></th>\n",
       "      <th>month</th>\n",
       "      <th>Date</th>\n",
       "    </tr>\n",
       "  </thead>\n",
       "  <tbody>\n",
       "    <tr>\n",
       "      <th>822</th>\n",
       "      <td>February</td>\n",
       "      <td>2019-02-07</td>\n",
       "    </tr>\n",
       "  </tbody>\n",
       "</table>\n",
       "</div>"
      ],
      "text/plain": [
       "        month       Date\n",
       "822  February 2019-02-07"
      ]
     },
     "execution_count": 44,
     "metadata": {},
     "output_type": "execute_result"
    }
   ],
   "source": [
    "print(\"the lowest sale was of amount : \",df[\"Total\"].min())\n",
    "df[(df[\"Total\"]==df[\"Total\"].min()) & (df[\"Branch\"]==\"C\")][[\"month\",\"Date\"]]"
   ]
  },
  {
   "cell_type": "code",
   "execution_count": null,
   "id": "727c2253-87a7-4f86-a380-70ad98505094",
   "metadata": {},
   "outputs": [],
   "source": []
  },
  {
   "cell_type": "markdown",
   "id": "e7fd1312-1da0-486f-8785-0de10c5c9aab",
   "metadata": {},
   "source": [
    "### (11) What was the category of customer and its corresponding product category?"
   ]
  },
  {
   "cell_type": "code",
   "execution_count": 45,
   "id": "e108d911-1611-404a-8031-75a6a9243cd6",
   "metadata": {},
   "outputs": [
    {
     "data": {
      "text/html": [
       "<div>\n",
       "<style scoped>\n",
       "    .dataframe tbody tr th:only-of-type {\n",
       "        vertical-align: middle;\n",
       "    }\n",
       "\n",
       "    .dataframe tbody tr th {\n",
       "        vertical-align: top;\n",
       "    }\n",
       "\n",
       "    .dataframe thead th {\n",
       "        text-align: right;\n",
       "    }\n",
       "</style>\n",
       "<table border=\"1\" class=\"dataframe\">\n",
       "  <thead>\n",
       "    <tr style=\"text-align: right;\">\n",
       "      <th></th>\n",
       "      <th>Branch</th>\n",
       "      <th>Date</th>\n",
       "      <th>Customer type</th>\n",
       "      <th>Product line</th>\n",
       "    </tr>\n",
       "  </thead>\n",
       "  <tbody>\n",
       "    <tr>\n",
       "      <th>822</th>\n",
       "      <td>C</td>\n",
       "      <td>2019-02-07</td>\n",
       "      <td>Member</td>\n",
       "      <td>Sports and travel</td>\n",
       "    </tr>\n",
       "  </tbody>\n",
       "</table>\n",
       "</div>"
      ],
      "text/plain": [
       "    Branch       Date Customer type       Product line\n",
       "822      C 2019-02-07        Member  Sports and travel"
      ]
     },
     "execution_count": 45,
     "metadata": {},
     "output_type": "execute_result"
    }
   ],
   "source": [
    "df[df[\"Total\"]==df[\"Total\"].min()][[\"Branch\",\"Date\",\"Customer type\",\"Product line\"]]"
   ]
  },
  {
   "cell_type": "code",
   "execution_count": null,
   "id": "8cbf3b23-2f94-45f7-ad23-d99ca1a1f31a",
   "metadata": {},
   "outputs": [],
   "source": []
  },
  {
   "cell_type": "markdown",
   "id": "74c61e81-79f8-4c91-85d3-e5928a3c2414",
   "metadata": {},
   "source": [
    "#### (12) Find  highest sale  on any day in all months of all branches "
   ]
  },
  {
   "cell_type": "code",
   "execution_count": 46,
   "id": "fea312da-bc2f-4f5b-b311-e206bc6d453d",
   "metadata": {},
   "outputs": [
    {
     "data": {
      "image/png": "[encoded data removed]",
      "text/plain": [
       "<Figure size 1000x400 with 3 Axes>"
      ]
     },
     "metadata": {},
     "output_type": "display_data"
    }
   ],
   "source": [
    "a=df[df[\"Branch\"] ==\"A\"]\n",
    "plt.figure(figsize = (10,4))\n",
    "plt.subplot(1,3,1)\n",
    "plt.bar(a[\"month\"],a[\"Total\"],color = 'purple')\n",
    "plt.title(\"sale trend: A\")\n",
    "b=df[df[\"Branch\"] ==\"B\"]\n",
    "plt.subplot(1,3,2)\n",
    "plt.bar(b[\"month\"],b[\"Total\"],color = 'indigo')\n",
    "plt.title(\"sale trend: B\")\n",
    "c=df[df[\"Branch\"] ==\"C\"]\n",
    "plt.subplot(1,3,3)\n",
    "plt.bar(c[\"month\"],c[\"Total\"],color = 'navy')\n",
    "plt.title(\"sale trend: C\")\n",
    "plt.show() "
   ]
  },
  {
   "cell_type": "markdown",
   "id": "8e4a2088-55ed-46ba-a1bc-326f7d809071",
   "metadata": {},
   "source": [
    "####  At branch A  \n",
    " - Highest sale :  february\n",
    " - Lowest sale :  January\n",
    " \n",
    "####  At branch B  \n",
    "- Highest sale :  march \n",
    "- Lowest sale :  february\n",
    " \n",
    "####  At branch C \n",
    "- Highest sale :  february\n",
    "- Lowest sale :   march "
   ]
  },
  {
   "cell_type": "markdown",
   "id": "be7e7abf-ab7e-42f4-9e10-e638af8a9de3",
   "metadata": {},
   "source": [
    "##### The branch manager can try to consider the factors leading to great sales on the stated days for each branch in order to maxmize profit in the following months. "
   ]
  },
  {
   "cell_type": "code",
   "execution_count": null,
   "id": "7dc10cc3-1260-4617-a305-46c5a1fc8981",
   "metadata": {},
   "outputs": [],
   "source": []
  },
  {
   "cell_type": "markdown",
   "id": "96e1e08d-4e6f-4631-acec-b87ed6795297",
   "metadata": {},
   "source": [
    "#### (13.a) Date wise Customers visiting trend of Branch A for each month "
   ]
  },
  {
   "cell_type": "code",
   "execution_count": 47,
   "id": "de5da171-6a11-44e5-b07b-57f2460f539c",
   "metadata": {},
   "outputs": [
    {
     "data": {
      "image/png": "[encoded data removed]",
      "text/plain": [
       "<Figure size 1000x400 with 3 Axes>"
      ]
     },
     "metadata": {},
     "output_type": "display_data"
    }
   ],
   "source": [
    "plt.figure(figsize = (10,4))\n",
    "a=df[(df[\"Branch\"] ==\"A\")]\n",
    "a_jan=a[a[\"month\"]==\"January\"]\n",
    "plt.subplot(1,3,1)\n",
    "plt.hist(a_jan[\"Date\"],edgecolor=\"black\",bins=7)\n",
    "plt.xticks(rotation = 90)\n",
    "plt.title(\"January\")\n",
    "a_feb=a[a[\"month\"]==\"February\"]\n",
    "plt.subplot(1,3,2)\n",
    "plt.hist(a_feb[\"Date\"],edgecolor=\"black\",bins=7)\n",
    "plt.xticks(rotation = 90)\n",
    "plt.title(\"february\")\n",
    "a_march=a[a[\"month\"]==\"March\"]\n",
    "plt.subplot(1,3,3)\n",
    "plt.hist(a_march[\"Date\"],edgecolor=\"black\",bins=7)\n",
    "plt.xticks(rotation = 90)\n",
    "plt.title(\"march\")\n",
    "plt.show()"
   ]
  },
  {
   "cell_type": "code",
   "execution_count": null,
   "id": "741f8123-f0e1-4ddb-9c73-80dc74284373",
   "metadata": {},
   "outputs": [],
   "source": []
  },
  {
   "cell_type": "markdown",
   "id": "3447b2c1-9282-468e-8ce5-0912fe567dac",
   "metadata": {},
   "source": [
    "#### (13.b) Date wise Customers visiting trend of Branch B for each months "
   ]
  },
  {
   "cell_type": "code",
   "execution_count": 48,
   "id": "98fa6dd0-5299-4dc0-bcfb-a8b0ef3d6584",
   "metadata": {},
   "outputs": [
    {
     "data": {
      "image/png": "[encoded data removed]",
      "text/plain": [
       "<Figure size 1000x400 with 3 Axes>"
      ]
     },
     "metadata": {},
     "output_type": "display_data"
    }
   ],
   "source": [
    "plt.figure(figsize = (10,4))\n",
    "b=df[(df[\"Branch\"] ==\"B\")]\n",
    "b_jan=b[b[\"month\"]==\"January\"]\n",
    "plt.subplot(1,3,1)\n",
    "plt.hist(b_jan[\"Date\"],edgecolor=\"black\",bins=7,color = 'green')\n",
    "plt.xticks(rotation = 90)\n",
    "plt.title(\"January\")\n",
    "b_feb=b[b[\"month\"]==\"February\"]\n",
    "plt.subplot(1,3,2)\n",
    "plt.hist(b_feb[\"Date\"],edgecolor=\"black\",bins=7,color = 'green')\n",
    "plt.xticks(rotation = 90)\n",
    "plt.title(\"February\")\n",
    "b_march=b[b[\"month\"]==\"March\"]\n",
    "plt.subplot(1,3,3)\n",
    "plt.hist(b_march[\"Date\"],edgecolor=\"black\",bins=7,color = 'green')\n",
    "plt.xticks(rotation = 90)\n",
    "plt.title(\"march\")\n",
    "plt.show()"
   ]
  },
  {
   "cell_type": "code",
   "execution_count": null,
   "id": "333472bc-1d07-4f8c-adf5-d5adea08f4ed",
   "metadata": {},
   "outputs": [],
   "source": []
  },
  {
   "cell_type": "markdown",
   "id": "e952d17f-62ca-4889-89d2-261a00c386e8",
   "metadata": {},
   "source": [
    "#### (13.c) Date wise Customers visiting trend of Branch C for each months "
   ]
  },
  {
   "cell_type": "code",
   "execution_count": 49,
   "id": "c28a1cbc-d06f-4fe3-bb85-129963d80a60",
   "metadata": {},
   "outputs": [
    {
     "data": {
      "image/png": "[encoded data removed]",
      "text/plain": [
       "<Figure size 1000x400 with 3 Axes>"
      ]
     },
     "metadata": {},
     "output_type": "display_data"
    }
   ],
   "source": [
    "plt.figure(figsize = (10,4))\n",
    "c=df[(df[\"Branch\"] ==\"C\")]\n",
    "c_jan=c[c[\"month\"]==\"January\"]\n",
    "plt.subplot(1,3,1)\n",
    "plt.hist(c_jan[\"Date\"],edgecolor=\"black\",bins=7,color = 'teal')\n",
    "plt.xticks(rotation = 90)\n",
    "plt.title(\"January\")\n",
    "c_feb=c[c[\"month\"]==\"February\"]\n",
    "plt.subplot(1,3,2)\n",
    "plt.hist(c_feb[\"Date\"],edgecolor=\"black\",bins=7,color = 'teal')\n",
    "plt.xticks(rotation = 90)\n",
    "plt.title(\"February\")\n",
    "c_march=c[c[\"month\"]==\"March\"]\n",
    "plt.subplot(1,3,3)\n",
    "plt.hist(c_march[\"Date\"],edgecolor=\"black\",bins=7,color = 'teal')\n",
    "plt.xticks(rotation = 90)\n",
    "plt.title(\"march\")\n",
    "plt.show()"
   ]
  },
  {
   "cell_type": "code",
   "execution_count": null,
   "id": "4d6e64c8-2f6b-45ad-bc2e-854f8fae533b",
   "metadata": {},
   "outputs": [],
   "source": []
  },
  {
   "cell_type": "markdown",
   "id": "97d8e29f-6d4a-4752-b8c0-2b0f6e1469e9",
   "metadata": {},
   "source": [
    "#### (14) Find most populated product of the company"
   ]
  },
  {
   "cell_type": "code",
   "execution_count": 50,
   "id": "0d671689-0280-4b62-b2ee-aefd0a80a2ba",
   "metadata": {},
   "outputs": [
    {
     "data": {
      "text/plain": [
       "0    Fashion accessories\n",
       "Name: Product line, dtype: object"
      ]
     },
     "execution_count": 50,
     "metadata": {},
     "output_type": "execute_result"
    }
   ],
   "source": [
    "df[\"Product line\"].mode()"
   ]
  },
  {
   "cell_type": "code",
   "execution_count": null,
   "id": "f68853f8-acb5-4750-9f59-a4abfeaa68bc",
   "metadata": {},
   "outputs": [],
   "source": []
  },
  {
   "cell_type": "markdown",
   "id": "8bfe8003-a911-4de3-a798-1659018fb338",
   "metadata": {},
   "source": [
    "### (15) Product demand at each branch"
   ]
  },
  {
   "cell_type": "code",
   "execution_count": 51,
   "id": "c366c30f-5b95-446b-84a2-a8b9885fbdf6",
   "metadata": {},
   "outputs": [
    {
     "data": {
      "text/plain": [
       "Branch  Product line          \n",
       "A       Home and lifestyle        65\n",
       "        Electronic accessories    60\n",
       "        Sports and travel         59\n",
       "        Food and beverages        58\n",
       "        Fashion accessories       51\n",
       "        Health and beauty         47\n",
       "B       Fashion accessories       62\n",
       "        Sports and travel         62\n",
       "        Electronic accessories    55\n",
       "        Health and beauty         53\n",
       "        Food and beverages        50\n",
       "        Home and lifestyle        50\n",
       "C       Food and beverages        66\n",
       "        Fashion accessories       65\n",
       "        Electronic accessories    55\n",
       "        Health and beauty         52\n",
       "        Home and lifestyle        45\n",
       "        Sports and travel         45\n",
       "Name: Product line, dtype: int64"
      ]
     },
     "execution_count": 51,
     "metadata": {},
     "output_type": "execute_result"
    }
   ],
   "source": [
    "df.groupby([\"Branch\"])[\"Product line\"].value_counts()"
   ]
  },
  {
   "cell_type": "code",
   "execution_count": null,
   "id": "97b0b1c1-0fda-4c79-820f-449b9360d476",
   "metadata": {},
   "outputs": [],
   "source": []
  },
  {
   "cell_type": "markdown",
   "id": "b939ae80-45bb-400a-b5f6-b9fc5f38f210",
   "metadata": {},
   "source": [
    "#### (16) Find branch and month wise demand of product detail"
   ]
  },
  {
   "cell_type": "code",
   "execution_count": 52,
   "id": "1645da95-106a-45b0-8480-b9002d3b58a6",
   "metadata": {},
   "outputs": [
    {
     "data": {
      "text/plain": [
       "Branch  month     Product line          \n",
       "A       February  Food and beverages        21\n",
       "                  Electronic accessories    18\n",
       "                  Fashion accessories       16\n",
       "                  Sports and travel         14\n",
       "                  Home and lifestyle        13\n",
       "                  Health and beauty         12\n",
       "        January   Home and lifestyle        27\n",
       "                  Sports and travel         24\n",
       "                  Electronic accessories    21\n",
       "                  Fashion accessories       20\n",
       "                  Food and beverages        15\n",
       "                  Health and beauty         12\n",
       "        March     Home and lifestyle        25\n",
       "                  Health and beauty         23\n",
       "                  Food and beverages        22\n",
       "                  Electronic accessories    21\n",
       "                  Sports and travel         21\n",
       "                  Fashion accessories       15\n",
       "B       February  Fashion accessories       24\n",
       "                  Electronic accessories    19\n",
       "                  Sports and travel         19\n",
       "                  Food and beverages        17\n",
       "                  Health and beauty         16\n",
       "                  Home and lifestyle        14\n",
       "        January   Sports and travel         23\n",
       "                  Fashion accessories       21\n",
       "                  Food and beverages        19\n",
       "                  Electronic accessories    18\n",
       "                  Health and beauty         16\n",
       "                  Home and lifestyle        14\n",
       "        March     Home and lifestyle        22\n",
       "                  Health and beauty         21\n",
       "                  Sports and travel         20\n",
       "                  Electronic accessories    18\n",
       "                  Fashion accessories       17\n",
       "                  Food and beverages        14\n",
       "C       February  Food and beverages        24\n",
       "                  Fashion accessories       20\n",
       "                  Health and beauty         18\n",
       "                  Electronic accessories    17\n",
       "                  Home and lifestyle        11\n",
       "                  Sports and travel         10\n",
       "        January   Fashion accessories       23\n",
       "                  Sports and travel         23\n",
       "                  Food and beverages        22\n",
       "                  Health and beauty         21\n",
       "                  Home and lifestyle        18\n",
       "                  Electronic accessories    15\n",
       "        March     Electronic accessories    23\n",
       "                  Fashion accessories       22\n",
       "                  Food and beverages        20\n",
       "                  Home and lifestyle        16\n",
       "                  Health and beauty         13\n",
       "                  Sports and travel         12\n",
       "Name: Product line, dtype: int64"
      ]
     },
     "execution_count": 52,
     "metadata": {},
     "output_type": "execute_result"
    }
   ],
   "source": [
    "df.groupby([\"Branch\",\"month\"])[\"Product line\"].value_counts()"
   ]
  },
  {
   "cell_type": "code",
   "execution_count": null,
   "id": "95e06892-adf6-4517-bf6d-2782ce8584bb",
   "metadata": {},
   "outputs": [],
   "source": []
  },
  {
   "cell_type": "markdown",
   "id": "d2a5fbed-dcc8-4f5e-bbd2-798d71296a20",
   "metadata": {},
   "source": [
    "#### (17) Find Sales of each product "
   ]
  },
  {
   "cell_type": "code",
   "execution_count": 53,
   "id": "3d478cf0-eef0-499d-a6bc-e0f40729fcb7",
   "metadata": {},
   "outputs": [
    {
     "data": {
      "text/plain": [
       "Product line\n",
       "Electronic accessories    54337.5315\n",
       "Fashion accessories       54305.8950\n",
       "Food and beverages        56144.8440\n",
       "Health and beauty         49193.7390\n",
       "Home and lifestyle        53861.9130\n",
       "Sports and travel         55122.8265\n",
       "Name: Total, dtype: float64"
      ]
     },
     "execution_count": 53,
     "metadata": {},
     "output_type": "execute_result"
    }
   ],
   "source": [
    "a=df.groupby([\"Product line\"])[\"Total\"].sum()\n",
    "a"
   ]
  },
  {
   "cell_type": "code",
   "execution_count": null,
   "id": "7487ae7b-1974-4f91-98e8-97692cb9d71e",
   "metadata": {},
   "outputs": [],
   "source": []
  },
  {
   "cell_type": "markdown",
   "id": "fdf754b4-61de-42e8-bcce-3e5ddb46147c",
   "metadata": {},
   "source": [
    "#### (18) Find  Monthly sale of each product"
   ]
  },
  {
   "cell_type": "code",
   "execution_count": 54,
   "id": "b12e1fa0-e160-4462-9c1d-96a69c020394",
   "metadata": {},
   "outputs": [
    {
     "data": {
      "text/plain": [
       "Product line            month   \n",
       "Electronic accessories  February    17362.9050\n",
       "                        January     18831.2880\n",
       "                        March       18143.3385\n",
       "Fashion accessories     February    19009.8615\n",
       "                        January     19345.1160\n",
       "                        March       15950.9175\n",
       "Food and beverages      February    20000.3580\n",
       "                        January     19570.5300\n",
       "                        March       16573.9560\n",
       "Health and beauty       February    14602.2555\n",
       "                        January     16383.1710\n",
       "                        March       18208.3125\n",
       "Home and lifestyle      February    12434.3835\n",
       "                        January     20494.7400\n",
       "                        March       20932.7895\n",
       "Sports and travel       February    13809.6105\n",
       "                        January     21667.0230\n",
       "                        March       19646.1930\n",
       "Name: Total, dtype: float64"
      ]
     },
     "execution_count": 54,
     "metadata": {},
     "output_type": "execute_result"
    }
   ],
   "source": [
    "df.groupby([\"Product line\",\"month\"])[\"Total\"].sum()"
   ]
  },
  {
   "cell_type": "code",
   "execution_count": null,
   "id": "a986a69d-16e1-4f43-a40b-ebbab5e836ce",
   "metadata": {},
   "outputs": [],
   "source": []
  },
  {
   "cell_type": "markdown",
   "id": "eb6a8f3d-7c9d-4fea-9254-4a6929e449d0",
   "metadata": {},
   "source": [
    "#### (19) Find monthly sale of each product of all branches "
   ]
  },
  {
   "cell_type": "code",
   "execution_count": 55,
   "id": "f4c00df6-4f4a-423d-a681-4ad4f05ce9f1",
   "metadata": {},
   "outputs": [
    {
     "data": {
      "text/plain": [
       "Branch  Product line            month   \n",
       "A       Electronic accessories  February     5202.7710\n",
       "                                January      6401.2725\n",
       "                                March        6713.0700\n",
       "        Fashion accessories     February     5173.6335\n",
       "                                January      6847.4910\n",
       "                                March        4311.3840\n",
       "        Food and beverages      February     7054.2255\n",
       "                                January      4646.2290\n",
       "                                March        5462.6460\n",
       "        Health and beauty       February     2915.4825\n",
       "                                January      3962.5950\n",
       "                                March        5719.6755\n",
       "        Home and lifestyle      February     4771.6305\n",
       "                                January     10313.5935\n",
       "                                March        7331.9715\n",
       "        Sports and travel       February     4742.3775\n",
       "                                January      6509.9475\n",
       "                                March        8120.3745\n",
       "B       Electronic accessories  February     6686.2530\n",
       "                                January      6699.7770\n",
       "                                March        3665.4135\n",
       "        Fashion accessories     February     6137.1135\n",
       "                                January      6112.5960\n",
       "                                March        4163.6070\n",
       "        Food and beverages      February     5554.8150\n",
       "                                January      6609.2775\n",
       "                                March        3050.7960\n",
       "        Health and beauty       February     5856.4275\n",
       "                                January      6399.8865\n",
       "                                March        7724.3460\n",
       "        Home and lifestyle      February     4659.8475\n",
       "                                January      4586.4420\n",
       "                                March        8302.8750\n",
       "        Sports and travel       February     5529.8145\n",
       "                                January      6768.0795\n",
       "                                March        7690.3050\n",
       "C       Electronic accessories  February     5473.8810\n",
       "                                January      5730.2385\n",
       "                                March        7764.8550\n",
       "        Fashion accessories     February     7699.1145\n",
       "                                January      6385.0290\n",
       "                                March        7475.9265\n",
       "        Food and beverages      February     7391.3175\n",
       "                                January      8315.0235\n",
       "                                March        8060.5140\n",
       "        Health and beauty       February     5830.3455\n",
       "                                January      6020.6895\n",
       "                                March        4764.2910\n",
       "        Home and lifestyle      February     3002.9055\n",
       "                                January      5594.7045\n",
       "                                March        5297.9430\n",
       "        Sports and travel       February     3537.4185\n",
       "                                January      8388.9960\n",
       "                                March        3835.5135\n",
       "Name: Total, dtype: float64"
      ]
     },
     "execution_count": 55,
     "metadata": {},
     "output_type": "execute_result"
    }
   ],
   "source": [
    "df.groupby([\"Branch\",\"Product line\",\"month\"])[\"Total\"].sum()"
   ]
  },
  {
   "cell_type": "code",
   "execution_count": null,
   "id": "3257b826-ed79-4002-8adc-faa16566c971",
   "metadata": {},
   "outputs": [],
   "source": []
  },
  {
   "cell_type": "markdown",
   "id": "ed232952-c902-4aae-be3b-95877ff69d04",
   "metadata": {},
   "source": [
    "### (20) Find customer's product taste according to the gender"
   ]
  },
  {
   "cell_type": "code",
   "execution_count": 56,
   "id": "56b6afb1-4043-4d50-8372-1a29eb798b56",
   "metadata": {},
   "outputs": [
    {
     "data": {
      "text/plain": [
       "Branch  Product line            Gender\n",
       "A       Electronic accessories  Male      32\n",
       "                                Female    28\n",
       "        Fashion accessories     Female    28\n",
       "                                Male      23\n",
       "        Food and beverages      Male      35\n",
       "                                Female    23\n",
       "        Health and beauty       Male      26\n",
       "                                Female    21\n",
       "        Home and lifestyle      Male      33\n",
       "                                Female    32\n",
       "        Sports and travel       Male      30\n",
       "                                Female    29\n",
       "B       Electronic accessories  Female    28\n",
       "                                Male      27\n",
       "        Fashion accessories     Female    33\n",
       "                                Male      29\n",
       "        Food and beverages      Female    29\n",
       "                                Male      21\n",
       "        Health and beauty       Male      33\n",
       "                                Female    20\n",
       "        Home and lifestyle      Male      28\n",
       "                                Female    22\n",
       "        Sports and travel       Male      32\n",
       "                                Female    30\n",
       "C       Electronic accessories  Female    28\n",
       "                                Male      27\n",
       "        Fashion accessories     Female    35\n",
       "                                Male      30\n",
       "        Food and beverages      Female    38\n",
       "                                Male      28\n",
       "        Health and beauty       Male      29\n",
       "                                Female    23\n",
       "        Home and lifestyle      Female    25\n",
       "                                Male      20\n",
       "        Sports and travel       Female    29\n",
       "                                Male      16\n",
       "Name: Gender, dtype: int64"
      ]
     },
     "execution_count": 56,
     "metadata": {},
     "output_type": "execute_result"
    }
   ],
   "source": [
    "df.groupby([\"Branch\",\"Product line\"])[\"Gender\"].value_counts()"
   ]
  },
  {
   "cell_type": "code",
   "execution_count": null,
   "id": "40c3673d-46f2-40a0-aadc-5fdb32016b98",
   "metadata": {},
   "outputs": [],
   "source": []
  },
  {
   "cell_type": "markdown",
   "id": "325beed0-436f-4f7c-ba19-c840fd27a905",
   "metadata": {},
   "source": [
    "#### (21) Find the total number of Customers "
   ]
  },
  {
   "cell_type": "code",
   "execution_count": 57,
   "id": "89979555-5538-410d-9079-b2ad03a17e21",
   "metadata": {},
   "outputs": [
    {
     "name": "stdout",
     "output_type": "stream",
     "text": [
      "total customers :  1000\n"
     ]
    },
    {
     "data": {
      "text/plain": [
       "Female    501\n",
       "Male      499\n",
       "Name: Gender, dtype: int64"
      ]
     },
     "execution_count": 57,
     "metadata": {},
     "output_type": "execute_result"
    }
   ],
   "source": [
    "print(\"total customers : \",df[\"Gender\"].count())\n",
    "df[\"Gender\"].value_counts()"
   ]
  },
  {
   "cell_type": "code",
   "execution_count": null,
   "id": "aa4c47ad-5cde-4dd5-b2ec-984028871d9d",
   "metadata": {},
   "outputs": [],
   "source": []
  },
  {
   "cell_type": "markdown",
   "id": "f5d6393d-2d7d-4e30-9c07-b095760f8069",
   "metadata": {},
   "source": [
    "#### (22) Which branch has highest customers ?"
   ]
  },
  {
   "cell_type": "code",
   "execution_count": 58,
   "id": "55bcbbfe-14f0-4610-8c38-f619f6d23d09",
   "metadata": {},
   "outputs": [
    {
     "data": {
      "text/plain": [
       "Branch\n",
       "A    340\n",
       "B    332\n",
       "C    328\n",
       "Name: Customer type, dtype: int64"
      ]
     },
     "execution_count": 58,
     "metadata": {},
     "output_type": "execute_result"
    }
   ],
   "source": [
    "df.groupby([\"Branch\"])[\"Customer type\"].count()"
   ]
  },
  {
   "cell_type": "code",
   "execution_count": null,
   "id": "7dc37a30-b348-4617-89ee-7912eccc81b0",
   "metadata": {},
   "outputs": [],
   "source": []
  },
  {
   "cell_type": "markdown",
   "id": "75e25bc2-bdf3-4a54-a9f7-c9659b4a4974",
   "metadata": {},
   "source": [
    "#### (23) How many Customers were normal or Member of the company?"
   ]
  },
  {
   "cell_type": "code",
   "execution_count": 59,
   "id": "2d9ccf04-bdfd-47b5-9139-6432bc64d318",
   "metadata": {},
   "outputs": [
    {
     "data": {
      "text/plain": [
       "Member    501\n",
       "Normal    499\n",
       "Name: Customer type, dtype: int64"
      ]
     },
     "execution_count": 59,
     "metadata": {},
     "output_type": "execute_result"
    }
   ],
   "source": [
    "df[\"Customer type\"].value_counts()"
   ]
  },
  {
   "cell_type": "code",
   "execution_count": null,
   "id": "4f583b9a-32c6-4a81-967a-8cba27e621dc",
   "metadata": {},
   "outputs": [],
   "source": []
  },
  {
   "cell_type": "markdown",
   "id": "a68e3089-74dd-4ffb-b1c7-ca4d0a2738e1",
   "metadata": {},
   "source": [
    "#### (24) Find Customers type count of each branch"
   ]
  },
  {
   "cell_type": "code",
   "execution_count": 60,
   "id": "1c3f2f63-7db2-4ca9-9ac4-a98f764cbf82",
   "metadata": {},
   "outputs": [
    {
     "data": {
      "text/plain": [
       "Branch  Customer type\n",
       "A       Normal           173\n",
       "        Member           167\n",
       "B       Normal           167\n",
       "        Member           165\n",
       "C       Member           169\n",
       "        Normal           159\n",
       "Name: Customer type, dtype: int64"
      ]
     },
     "execution_count": 60,
     "metadata": {},
     "output_type": "execute_result"
    }
   ],
   "source": [
    "df.groupby([\"Branch\"])[\"Customer type\"].value_counts()"
   ]
  },
  {
   "cell_type": "code",
   "execution_count": null,
   "id": "afdf1146-42ee-4b05-8309-d0ef5a7a0cc3",
   "metadata": {},
   "outputs": [],
   "source": []
  },
  {
   "cell_type": "markdown",
   "id": "7217152c-650f-490a-8742-0c8bb4010409",
   "metadata": {},
   "source": [
    "#### (25) Find count of male or female customer types of each branch"
   ]
  },
  {
   "cell_type": "code",
   "execution_count": 61,
   "id": "5b360b00-2225-4366-9fbd-90214fab1c7c",
   "metadata": {},
   "outputs": [
    {
     "data": {
      "text/plain": [
       "Branch  Customer type  Gender\n",
       "A       Member         Male      87\n",
       "                       Female    80\n",
       "        Normal         Male      92\n",
       "                       Female    81\n",
       "B       Member         Female    85\n",
       "                       Male      80\n",
       "        Normal         Male      90\n",
       "                       Female    77\n",
       "C       Member         Female    96\n",
       "                       Male      73\n",
       "        Normal         Female    82\n",
       "                       Male      77\n",
       "Name: Gender, dtype: int64"
      ]
     },
     "execution_count": 61,
     "metadata": {},
     "output_type": "execute_result"
    }
   ],
   "source": [
    "df.groupby([\"Branch\",\"Customer type\"])[\"Gender\"].value_counts()"
   ]
  },
  {
   "cell_type": "code",
   "execution_count": null,
   "id": "d4c08bb6-fe1a-4bb8-9775-6c5a2a4c54bf",
   "metadata": {},
   "outputs": [],
   "source": []
  },
  {
   "cell_type": "markdown",
   "id": "0089db85-bd00-4064-9f64-0cd2871a95f7",
   "metadata": {},
   "source": [
    "#### (26) Find the peak time of Customers visit at supermarket"
   ]
  },
  {
   "cell_type": "code",
   "execution_count": 62,
   "id": "8b972b1c-c55e-49d3-bdd7-76939021f170",
   "metadata": {},
   "outputs": [
    {
     "data": {
      "text/plain": [
       "0    14:42:00\n",
       "1    19:48:00\n",
       "Name: Time, dtype: object"
      ]
     },
     "execution_count": 62,
     "metadata": {},
     "output_type": "execute_result"
    }
   ],
   "source": [
    "df[\"Time\"].mode()"
   ]
  },
  {
   "cell_type": "code",
   "execution_count": 63,
   "id": "af8b3723-084d-4aa3-8bee-c53084b133a4",
   "metadata": {},
   "outputs": [
    {
     "data": {
      "text/plain": [
       "Branch  Time    \n",
       "A       11:51:00    3\n",
       "        12:43:00    3\n",
       "        13:34:00    3\n",
       "        15:48:00    3\n",
       "        19:44:00    3\n",
       "                   ..\n",
       "C       20:47:00    1\n",
       "        20:50:00    1\n",
       "        20:51:00    1\n",
       "        20:54:00    1\n",
       "        20:59:00    1\n",
       "Name: Time, Length: 788, dtype: int64"
      ]
     },
     "execution_count": 63,
     "metadata": {},
     "output_type": "execute_result"
    }
   ],
   "source": [
    "df.groupby([\"Branch\"])[\"Time\"].value_counts()"
   ]
  },
  {
   "cell_type": "code",
   "execution_count": null,
   "id": "68266721-4a5b-4eb7-953d-4b7dab80f45b",
   "metadata": {},
   "outputs": [],
   "source": []
  },
  {
   "cell_type": "markdown",
   "id": "86fe4e71-8fff-4dbd-b001-fd6604e36d09",
   "metadata": {},
   "source": [
    "#### (27) Find Highest,lowest and average rating to the company"
   ]
  },
  {
   "cell_type": "code",
   "execution_count": 64,
   "id": "e070314a-c372-46a8-ac8c-80cfcb0c5017",
   "metadata": {},
   "outputs": [
    {
     "data": {
      "text/plain": [
       "max     10.0000\n",
       "min      4.0000\n",
       "mean     6.9727\n",
       "Name: Rating, dtype: float64"
      ]
     },
     "execution_count": 64,
     "metadata": {},
     "output_type": "execute_result"
    }
   ],
   "source": [
    "df[\"Rating\"].agg([\"max\",\"min\",\"mean\"])"
   ]
  },
  {
   "cell_type": "code",
   "execution_count": null,
   "id": "46c21a09-c348-4392-804a-13a3f24256df",
   "metadata": {},
   "outputs": [],
   "source": []
  },
  {
   "cell_type": "markdown",
   "id": "ed1dbf53-aa81-4bed-937b-b89138d31df9",
   "metadata": {},
   "source": [
    "#### (28) Find the percentage of customers who had given 10 ratings"
   ]
  },
  {
   "cell_type": "code",
   "execution_count": 65,
   "id": "0c344051-2788-4390-aa6f-1bf3197f2a81",
   "metadata": {},
   "outputs": [
    {
     "name": "stdout",
     "output_type": "stream",
     "text": [
      "5 customers had given 10 rating\n",
      "0.5 % customers had given 10 rating\n"
     ]
    }
   ],
   "source": [
    "print(len(df[df[\"Rating\"]==10.0]), \"customers had given 10 rating\")\n",
    "print((len(df[df[\"Rating\"]==10.0])*100)/df[\"Rating\"].count(),\"% customers had given 10 rating\")\n"
   ]
  },
  {
   "cell_type": "code",
   "execution_count": null,
   "id": "a8783eb0-57f4-4ce4-bcaa-418c55049e11",
   "metadata": {},
   "outputs": [],
   "source": []
  },
  {
   "cell_type": "markdown",
   "id": "02d36eff-903d-4973-8174-288b49948579",
   "metadata": {},
   "source": [
    "#### (29)  Find the percentage of customers who had given below 10 ratings ?"
   ]
  },
  {
   "cell_type": "code",
   "execution_count": 66,
   "id": "0f191332-afdb-41e7-8198-37849a86d5c9",
   "metadata": {},
   "outputs": [
    {
     "name": "stdout",
     "output_type": "stream",
     "text": [
      "153 customers had given below rating\n",
      "15.3 % customers had given below 5 rating\n"
     ]
    }
   ],
   "source": [
    "print(len(df[df[\"Rating\"]<5.0]), \"customers had given below rating\")\n",
    "print((len(df[df[\"Rating\"]<5.0])*100)/df[\"Rating\"].count(),\"% customers had given below 5 rating\")"
   ]
  },
  {
   "cell_type": "code",
   "execution_count": null,
   "id": "13e4eb81-d623-4071-b708-ea0b12318aac",
   "metadata": {},
   "outputs": [],
   "source": []
  },
  {
   "cell_type": "markdown",
   "id": "823c154e-0199-41cc-a16e-a2016f17f1b5",
   "metadata": {},
   "source": [
    "#### (30) Find  Ratings given by customers at each branch"
   ]
  },
  {
   "cell_type": "code",
   "execution_count": 67,
   "id": "919aa7be-4302-4ee5-b729-fbc6ff75d960",
   "metadata": {},
   "outputs": [
    {
     "data": {
      "image/png": "[encoded data removed]",
      "text/plain": [
       "<Figure size 1000x400 with 3 Axes>"
      ]
     },
     "metadata": {},
     "output_type": "display_data"
    },
    {
     "name": "stdout",
     "output_type": "stream",
     "text": [
      " total customers at branch A is  340\n",
      " total customers at branch B is  332\n",
      " total customers at branch C is  328\n"
     ]
    }
   ],
   "source": [
    "plt.figure(figsize = (10,4))\n",
    "a=df[(df[\"Branch\"] ==\"A\")]\n",
    "plt.subplot(1,3,1)\n",
    "plt.hist(a[\"Rating\"],edgecolor=\"black\",bins=7)\n",
    "plt.xticks(rotation = 90)\n",
    "plt.title(\"Customer ratings at branch C\")\n",
    "b=df[(df[\"Branch\"] ==\"B\")]\n",
    "plt.subplot(1,3,2)\n",
    "plt.hist(b[\"Rating\"],edgecolor=\"black\",bins=7)\n",
    "plt.xticks(rotation = 90)\n",
    "plt.title(\"Customer ratings at Branch B\")\n",
    "c=df[(df[\"Branch\"] ==\"C\")]\n",
    "plt.subplot(1,3,3)\n",
    "plt.hist(c[\"Rating\"],edgecolor=\"black\",bins=7)\n",
    "plt.xticks(rotation = 90)\n",
    "plt.title(\"Customer ratings at Branch C\")\n",
    "plt.show()\n",
    "print(\" total customers at branch A is \",a[\"Customer type\"].count())\n",
    "print(\" total customers at branch B is \",b[\"Customer type\"].count())\n",
    "print(\" total customers at branch C is \",c[\"Customer type\"].count())\n"
   ]
  },
  {
   "cell_type": "code",
   "execution_count": null,
   "id": "1f938860-7ccd-4214-910f-b89da9fc0a7f",
   "metadata": {},
   "outputs": [],
   "source": []
  },
  {
   "cell_type": "markdown",
   "id": "b6310d73-563a-4532-b32b-f9990a96d1ac",
   "metadata": {},
   "source": [
    "### (31) Find the maximum,minimum and average rating at each branch "
   ]
  },
  {
   "cell_type": "code",
   "execution_count": 68,
   "id": "e53003c9-9062-4135-b209-db30ba23146b",
   "metadata": {},
   "outputs": [
    {
     "data": {
      "text/html": [
       "<div>\n",
       "<style scoped>\n",
       "    .dataframe tbody tr th:only-of-type {\n",
       "        vertical-align: middle;\n",
       "    }\n",
       "\n",
       "    .dataframe tbody tr th {\n",
       "        vertical-align: top;\n",
       "    }\n",
       "\n",
       "    .dataframe thead th {\n",
       "        text-align: right;\n",
       "    }\n",
       "</style>\n",
       "<table border=\"1\" class=\"dataframe\">\n",
       "  <thead>\n",
       "    <tr style=\"text-align: right;\">\n",
       "      <th></th>\n",
       "      <th>max</th>\n",
       "      <th>min</th>\n",
       "      <th>mean</th>\n",
       "    </tr>\n",
       "    <tr>\n",
       "      <th>Branch</th>\n",
       "      <th></th>\n",
       "      <th></th>\n",
       "      <th></th>\n",
       "    </tr>\n",
       "  </thead>\n",
       "  <tbody>\n",
       "    <tr>\n",
       "      <th>A</th>\n",
       "      <td>10.0</td>\n",
       "      <td>4.0</td>\n",
       "      <td>7.027059</td>\n",
       "    </tr>\n",
       "    <tr>\n",
       "      <th>B</th>\n",
       "      <td>10.0</td>\n",
       "      <td>4.0</td>\n",
       "      <td>6.818072</td>\n",
       "    </tr>\n",
       "    <tr>\n",
       "      <th>C</th>\n",
       "      <td>10.0</td>\n",
       "      <td>4.0</td>\n",
       "      <td>7.072866</td>\n",
       "    </tr>\n",
       "  </tbody>\n",
       "</table>\n",
       "</div>"
      ],
      "text/plain": [
       "         max  min      mean\n",
       "Branch                     \n",
       "A       10.0  4.0  7.027059\n",
       "B       10.0  4.0  6.818072\n",
       "C       10.0  4.0  7.072866"
      ]
     },
     "execution_count": 68,
     "metadata": {},
     "output_type": "execute_result"
    }
   ],
   "source": [
    "df.groupby([\"Branch\"])[\"Rating\"].agg([\"max\",\"min\",\"mean\"])"
   ]
  },
  {
   "cell_type": "code",
   "execution_count": null,
   "id": "3aaccf47-069b-421a-aeb5-9d98dba56da5",
   "metadata": {},
   "outputs": [],
   "source": []
  },
  {
   "cell_type": "markdown",
   "id": "0f483b83-a203-457c-beff-a6521aa0c476",
   "metadata": {},
   "source": [
    "#### (32) Find the product wise rating "
   ]
  },
  {
   "cell_type": "code",
   "execution_count": 69,
   "id": "1ff7ba7e-2572-4f55-ad37-fb145642acd9",
   "metadata": {},
   "outputs": [
    {
     "data": {
      "text/plain": [
       "Product line            Rating\n",
       "Electronic accessories  7.6       7\n",
       "                        4.7       6\n",
       "                        5.5       6\n",
       "                        6.0       6\n",
       "                        6.2       5\n",
       "                                 ..\n",
       "Sports and travel       8.3       1\n",
       "                        8.8       1\n",
       "                        9.2       1\n",
       "                        9.4       1\n",
       "                        9.8       1\n",
       "Name: Rating, Length: 341, dtype: int64"
      ]
     },
     "execution_count": 69,
     "metadata": {},
     "output_type": "execute_result"
    }
   ],
   "source": [
    "df.groupby([\"Product line\"])[\"Rating\"].value_counts()"
   ]
  },
  {
   "cell_type": "code",
   "execution_count": null,
   "id": "26e988cf-7edd-43af-b819-f208e19bea13",
   "metadata": {},
   "outputs": [],
   "source": []
  },
  {
   "cell_type": "markdown",
   "id": "fe24e61d-7c8a-4be9-9c17-c92fac281f2e",
   "metadata": {},
   "source": [
    "#### (33) Find the product wise rating of each branch"
   ]
  },
  {
   "cell_type": "code",
   "execution_count": 70,
   "id": "241531c8-6837-41c9-9b18-c2793401118f",
   "metadata": {},
   "outputs": [
    {
     "data": {
      "text/plain": [
       "Branch  Product line            Rating\n",
       "A       Electronic accessories  4.7       5\n",
       "                                7.3       4\n",
       "                                5.0       3\n",
       "                                6.6       3\n",
       "                                7.6       3\n",
       "                                         ..\n",
       "C       Sports and travel       9.4       1\n",
       "                                9.5       1\n",
       "                                9.6       1\n",
       "                                9.7       1\n",
       "                                10.0      1\n",
       "Name: Rating, Length: 674, dtype: int64"
      ]
     },
     "execution_count": 70,
     "metadata": {},
     "output_type": "execute_result"
    }
   ],
   "source": [
    "df.groupby([\"Branch\",\"Product line\"])[\"Rating\"].value_counts()"
   ]
  },
  {
   "cell_type": "code",
   "execution_count": null,
   "id": "44b324bc-30da-49c9-978f-0b6008e730f9",
   "metadata": {},
   "outputs": [],
   "source": []
  },
  {
   "cell_type": "markdown",
   "id": "537c7e89-146a-4011-92fe-ffb5da6f198b",
   "metadata": {},
   "source": [
    "## __Section 5: Other projects__"
   ]
  },
  {
   "cell_type": "markdown",
   "id": "76917418-e4f3-4910-a734-b8b818dd3081",
   "metadata": {},
   "source": [
    "#### <font color = blue> Section 5: Cohort Analysis (notebook 2/3) </font>\n",
    "\n",
    "#### <font color = blue> Section 6: Customer segmentation and Clustering (notebook 3/3)</font>"
   ]
  },
  {
   "cell_type": "code",
   "execution_count": null,
   "id": "26ba4320-37e8-4a27-a24d-6b28a1916ba4",
   "metadata": {},
   "outputs": [],
   "source": []
  }
 ],
 "metadata": {
  "kernelspec": {
   "display_name": "Python 3 (ipykernel)",
   "language": "python",
   "name": "python3"
  },
  "language_info": {
   "codemirror_mode": {
    "name": "ipython",
    "version": 3
   },
   "file_extension": ".py",
   "mimetype": "text/x-python",
   "name": "python",
   "nbconvert_exporter": "python",
   "pygments_lexer": "ipython3",
   "version": "3.10.7"
  }
 },
 "nbformat": 4,
 "nbformat_minor": 5
}
